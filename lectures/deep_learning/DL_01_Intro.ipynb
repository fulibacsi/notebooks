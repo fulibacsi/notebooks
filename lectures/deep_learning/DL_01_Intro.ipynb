{
 "cells": [
  {
   "cell_type": "markdown",
   "metadata": {},
   "source": [
    "<img src=\"./pics/DL.png\" width=110 align=\"left\" style=\"margin-right: 10px\">\n",
    "\n",
    "# Introduction to Deep Learning\n",
    "\n",
    "## 01. Introduction\n",
    "\n",
    "---"
   ]
  },
  {
   "cell_type": "markdown",
   "metadata": {},
   "source": [
    "## Installation\n",
    "\n",
    "1. Download and install the latest Anaconda distribution for your system\n",
    "2. Run create_environment file ([win](./scripts/create_environment.bat)|[unix](./scripts/create_environment.sh)) in a command line with anaconda environment (windows: Anaconda Prompt, unix/osx: terminal)\n",
    "3. Start jupyter notebook by running the start file ([win](./scripts/start.bat)|[unix](./scripts/start.sh)) in the same environment"
   ]
  },
  {
   "cell_type": "markdown",
   "metadata": {},
   "source": [
    "## Contents\n",
    "\n",
    "- [DL 01 Introduction](./DL_01_Intro.ipynb)\n",
    "- [DL 02 Neurons](./DL_02_Neurons.ipynb)\n",
    "- [DL 03 Neural Networks](./DL_03_Neural_Networks.ipynb)\n",
    "- [DL 04 Dense Networks](./DL_04_Dense_Networks.ipynb)\n",
    "- [DL 05 Home Assingment I.](./DL_05_Home_Assignment_1.ipynb)\n",
    "- [DL 06 Convolutional Neural Networks](./DL_06_Convolutional_Networks.ipynb)\n",
    "- [DL 07 Embeddings](./DL_07_Embeddings.ipynb)\n",
    "- [DL 08 Recurrent Neural Networks](./DL_08_Recurrent_Networks.ipynb)\n",
    "- [DL 09 Reinforcement Learning](./DL_09_Reinforcement_Learning.ipynb)\n",
    "- [DL 10 Home Assignment II.](./DL_10_Home_Assignment_2.ipynb)\n",
    "\n",
    "Other:\n",
    "- [DL Extra](./DL_Extra.ipynb)\n",
    "- [Links](./links.md)"
   ]
  },
  {
   "cell_type": "markdown",
   "metadata": {},
   "source": [
    "## Recommended materials\n",
    "\n",
    "- [Neural Networks and Deep Learning](http://neuralnetworksanddeeplearning.com/) free online book with great details\n",
    "- [Deeplearning.ai's Neural Networks and Deep Learning](https://www.youtube.com/playlist?list=PLkDaE6sCZn6Ec-XTbcX1uRg2_u4xOEky0) video series"
   ]
  },
  {
   "cell_type": "markdown",
   "metadata": {},
   "source": [
    "Course icon made by <a href=\"https://www.flaticon.com/authors/becris\" title=\"Becris\">Becris</a> from <a href=\"https://www.flaticon.com/\" title=\"Flaticon\"> www.flaticon.com</a>"
   ]
  }
 ],
 "metadata": {
  "kernelspec": {
   "display_name": "Python 3",
   "language": "python",
   "name": "python3"
  },
  "language_info": {
   "codemirror_mode": {
    "name": "ipython",
    "version": 3
   },
   "file_extension": ".py",
   "mimetype": "text/x-python",
   "name": "python",
   "nbconvert_exporter": "python",
   "pygments_lexer": "ipython3",
   "version": "3.7.7"
  }
 },
 "nbformat": 4,
 "nbformat_minor": 4
}
