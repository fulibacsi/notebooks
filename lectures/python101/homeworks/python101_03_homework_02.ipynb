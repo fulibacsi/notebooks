{
 "cells": [
  {
   "cell_type": "markdown",
   "metadata": {},
   "source": [
    "### 1. **Spaceship Damage Filter**\n",
    "You have a list of spaceships and their damage levels. \n",
    "- Filter the list to show only spaceships with damage above 50.\n",
    "- Check out [FireFly Honest Trailer](https://www.youtube.com/watch?v=7JaSs-x2tRI)"
   ]
  },
  {
   "cell_type": "code",
   "execution_count": null,
   "metadata": {},
   "outputs": [],
   "source": [
    "spaceships = [\n",
    "    {\"name\": \"USS Enterprise\", \"damage\": 70},\n",
    "    {\"name\": \"Millennium Falcon\", \"damage\": 40},\n",
    "    {\"name\": \"Serenity\", \"damage\": 85},\n",
    "]\n",
    "\n",
    "# Use a for loop to filter and display only the damaged ships (damage > 50)\n"
   ]
  },
  {
   "cell_type": "markdown",
   "metadata": {},
   "source": [
    "### 2. **D&D Class Renaming**\n",
    "Given a list of adventurers and their classes, use a lookup dictionary to change each adventurer's class to a new version (e.g., rename \"Wizard\" to \"Sorcerer\").\n",
    "- Update the class of each adventurer based on the lookup dictionary.\n",
    "- Check out [How LOTR Should Have Ended](https://www.youtube.com/watch?v=1yqVD0swvWU)"
   ]
  },
  {
   "cell_type": "code",
   "execution_count": null,
   "metadata": {},
   "outputs": [],
   "source": [
    "adventurers = [\n",
    "    {\"name\": \"Gandalf\", \"class\": \"Wizard\"},\n",
    "    {\"name\": \"Aragorn\", \"class\": \"Ranger\"},\n",
    "    {\"name\": \"Legolas\", \"class\": \"Archer\"},\n",
    "]\n",
    "\n",
    "class_rename = {\n",
    "    \"Wizard\": \"Sorcerer\",\n",
    "    \"Ranger\": \"Tracker\",\n",
    "    \"Archer\": \"Sharpshooter\"\n",
    "}\n",
    "\n",
    "# Use a for loop to update each adventurer's class using the lookup dictionary\n"
   ]
  },
  {
   "cell_type": "markdown",
   "metadata": {},
   "source": [
    "### 3. **Hacker Score Threshold**\n",
    "Given a list of hackers and their scores, filter the list to show only hackers with scores above 90.\n",
    "- Print the names and scores of the top hackers.\n",
    "- Check out when Neo first enters the [Matrix](https://www.youtube.com/watch?v=DGhhOzzlS7w)"
   ]
  },
  {
   "cell_type": "code",
   "execution_count": null,
   "metadata": {},
   "outputs": [],
   "source": [
    "hackers = [\n",
    "    {\"name\": \"ZeroCool\", \"score\": 85},\n",
    "    {\"name\": \"AcidBurn\", \"score\": 95},\n",
    "    {\"name\": \"CrashOverride\", \"score\": 90},\n",
    "]\n",
    "\n",
    "# Use a for loop to filter hackers with scores > 90 and display them\n"
   ]
  },
  {
   "cell_type": "markdown",
   "metadata": {},
   "source": [
    "### 4. **Droid Status Upgrade**\n",
    "You have a list of droids, and each droid has a model and a status. Use a lookup dictionary to update the status of the droids (e.g., \"inactive\" becomes \"active\").\n",
    "- Update each droid's status using the lookup dictionary.\n",
    "- Check out the trailer for a short lived cartoon called [Droids](https://www.youtube.com/watch?v=riIOiNq0RHk)"
   ]
  },
  {
   "cell_type": "code",
   "execution_count": null,
   "metadata": {},
   "outputs": [],
   "source": [
    "droids = [\n",
    "    {\"model\": \"R2-D2\", \"status\": \"inactive\"},\n",
    "    {\"model\": \"C-3PO\", \"status\": \"inactive\"},\n",
    "]\n",
    "\n",
    "status_update = {\n",
    "    \"inactive\": \"active\",\n",
    "    \"active\": \"fully operational\"\n",
    "}\n",
    "\n",
    "# Use a for loop to update the status of each droid\n"
   ]
  },
  {
   "cell_type": "markdown",
   "metadata": {},
   "source": [
    "### 5. **Cyberpunk Gear Rarity Filter**\n",
    "You have a list of cyberpunk gear with different rarities. Filter the list to only display items that are \"rare\" or \"legendary.\"\n",
    "- Check out the famouse rooftop drop scene from [Ghost in the Shell](https://www.youtube.com/watch?v=rqWwHI604n4)\n",
    "- or the music video [“I Really Want to Stay At Your House”](https://www.youtube.com/watch?v=KvMY1uzSC1E) from the Edgerunners series"
   ]
  },
  {
   "cell_type": "code",
   "execution_count": null,
   "metadata": {},
   "outputs": [],
   "source": [
    "gear = [\n",
    "    {\"name\": \"Neon Blade\", \"rarity\": \"rare\"},\n",
    "    {\"name\": \"Optical Enhancer\", \"rarity\": \"legendary\"},\n",
    "    {\"name\": \"Standard Pistol\", \"rarity\": \"common\"},\n",
    "]\n",
    "\n",
    "# Use a for loop to filter gear that is \"rare\" or \"legendary\"\n"
   ]
  }
 ],
 "metadata": {
  "language_info": {
   "name": "python"
  }
 },
 "nbformat": 4,
 "nbformat_minor": 2
}
