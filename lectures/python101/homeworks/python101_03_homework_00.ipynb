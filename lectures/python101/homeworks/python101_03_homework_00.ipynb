{
 "cells": [
  {
   "cell_type": "markdown",
   "metadata": {
    "vscode": {
     "languageId": "plaintext"
    }
   },
   "source": [
    "# SZISZ Python 101 Homework"
   ]
  },
  {
   "cell_type": "markdown",
   "metadata": {},
   "source": [
    "## 1. The Coffee Shop Orders ☕\n",
    "\n",
    "You are given a list of dictionaries, where each dictionary represents a student’s order at the campus café:\n",
    "\n",
    "```python\n",
    "orders = [\n",
    "    {\"student\": \"Alice\", \"drink\": \"latte\", \"size\": \"large\", \"extra_shot\": True},\n",
    "    {\"student\": \"Bob\", \"drink\": \"espresso\", \"size\": \"small\", \"extra_shot\": False},\n",
    "    {\"student\": \"Clara\", \"drink\": \"cappuccino\", \"size\": \"medium\", \"extra_shot\": True},\n",
    "    {\"student\": \"David\", \"drink\": \"tea\", \"size\": \"large\", \"extra_shot\": False},\n",
    "]\n",
    "```\n",
    "\n",
    "Tasks:\n",
    "1.\tPrint all students who ordered a coffee drink (not tea).\n",
    "2.\tCount how many people ordered an extra shot.\n",
    "3.\tCreate a list of all orders that are large coffees."
   ]
  },
  {
   "cell_type": "code",
   "execution_count": null,
   "metadata": {},
   "outputs": [],
   "source": [
    "orders = [\n",
    "    {\"student\": \"Alice\", \"drink\": \"latte\", \"size\": \"large\", \"extra_shot\": True},\n",
    "    {\"student\": \"Bob\", \"drink\": \"espresso\", \"size\": \"small\", \"extra_shot\": False},\n",
    "    {\"student\": \"Clara\", \"drink\": \"cappuccino\", \"size\": \"medium\", \"extra_shot\": True},\n",
    "    {\"student\": \"David\", \"drink\": \"tea\", \"size\": \"large\", \"extra_shot\": False},\n",
    "]\n"
   ]
  },
  {
   "cell_type": "markdown",
   "metadata": {},
   "source": [
    "## 2. The Movie Marathon 🎬\n",
    "\n",
    "You are given a list of lists, where each inner list has the structure:\n",
    "[movie_title, runtime_minutes, watched_bool].\n",
    "\n",
    "```python\n",
    "movies = [\n",
    "    [\"Inception\", 148, True],\n",
    "    [\"Shrek\", 95, True],\n",
    "    [\"The Godfather\", 175, False],\n",
    "    [\"Interstellar\", 169, False],\n",
    "    [\"Toy Story\", 81, True],\n",
    "]\n",
    "```\n",
    "\n",
    "Tasks:\n",
    "1.\tPrint all movies that have a runtime longer than 150 minutes.\n",
    "2.\tCreate a list of movie titles that the student hasn’t watched yet.\n",
    "3.\tCompute the total runtime of all unwatched movies (to see how long the next marathon will take)."
   ]
  },
  {
   "cell_type": "code",
   "execution_count": null,
   "metadata": {},
   "outputs": [],
   "source": [
    "movies = [\n",
    "    [\"Inception\", 148, True],\n",
    "    [\"Shrek\", 95, True],\n",
    "    [\"The Godfather\", 175, False],\n",
    "    [\"Interstellar\", 169, False],\n",
    "    [\"Toy Story\", 81, True],\n",
    "]"
   ]
  },
  {
   "cell_type": "markdown",
   "metadata": {},
   "source": [
    "## 3. The Campus Party Guestlist 🎉\n",
    "\n",
    "You are given a list of dictionaries, where each entry represents a guest’s RSVP:\n",
    "\n",
    "```python\n",
    "guests = [\n",
    "    {\"name\": \"Emma\", \"age\": 20, \"bringing\": \"chips\"},\n",
    "    {\"name\": \"Liam\", \"age\": 19, \"bringing\": \"soda\"},\n",
    "    {\"name\": \"Olivia\", \"age\": 21, \"bringing\": \"nothing\"},\n",
    "    {\"name\": \"Noah\", \"age\": 22, \"bringing\": \"cake\"},\n",
    "    {\"name\": \"Sophia\", \"age\": 20, \"bringing\": \"chips\"},\n",
    "]\n",
    "```\n",
    "\n",
    "Tasks:\n",
    "1.\tPrint all guests who are 21 or older.\n",
    "2.\tCount how many people are bringing chips.\n",
    "3.\tCreate a list of all the unique items people are bringing."
   ]
  },
  {
   "cell_type": "code",
   "execution_count": null,
   "metadata": {},
   "outputs": [],
   "source": [
    "guests = [\n",
    "    {\"name\": \"Emma\", \"age\": 20, \"bringing\": \"chips\"},\n",
    "    {\"name\": \"Liam\", \"age\": 19, \"bringing\": \"soda\"},\n",
    "    {\"name\": \"Olivia\", \"age\": 21, \"bringing\": \"nothing\"},\n",
    "    {\"name\": \"Noah\", \"age\": 22, \"bringing\": \"cake\"},\n",
    "    {\"name\": \"Sophia\", \"age\": 20, \"bringing\": \"chips\"},\n",
    "]\n"
   ]
  }
 ],
 "metadata": {
  "language_info": {
   "name": "python"
  }
 },
 "nbformat": 4,
 "nbformat_minor": 2
}
