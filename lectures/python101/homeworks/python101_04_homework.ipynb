{
 "cells": [
  {
   "cell_type": "markdown",
   "metadata": {},
   "source": [
    "# Python 101 \n",
    "## Homework IV.\n",
    "\n",
    "---"
   ]
  },
  {
   "cell_type": "markdown",
   "metadata": {},
   "source": [
    "### 1. Write a function that detects if a string is a palindrome!\n",
    "Palindromes are the same from backwards, eg. \"racecar\"."
   ]
  },
  {
   "cell_type": "code",
   "execution_count": null,
   "metadata": {
    "vscode": {
     "languageId": "plaintext"
    }
   },
   "outputs": [],
   "source": []
  },
  {
   "cell_type": "markdown",
   "metadata": {},
   "source": [
    "### 2. Extend the previous function so it now works with numbers as well.\n",
    "Remove the decimal number for the check - eg. 12321, 12.321 are both palindrome numbers."
   ]
  },
  {
   "cell_type": "code",
   "execution_count": null,
   "metadata": {
    "vscode": {
     "languageId": "plaintext"
    }
   },
   "outputs": [],
   "source": []
  },
  {
   "cell_type": "markdown",
   "metadata": {},
   "source": [
    "### 3. Extend the previous function so it works with whole sentences.\n",
    "All of the non-string characters should be discarded for the palindrome check it should also be case-insensitive - eg. \"Madam, I'm Adam\" is a palindrome."
   ]
  },
  {
   "cell_type": "code",
   "execution_count": null,
   "metadata": {
    "vscode": {
     "languageId": "plaintext"
    }
   },
   "outputs": [],
   "source": []
  },
  {
   "cell_type": "markdown",
   "metadata": {},
   "source": [
    "### 4. Write a function that can tell if the input number is a prime number. \n",
    "It should return True if the number is prime, False otherwise. Make sure to check if the input is an integer, and if it is not, print an error message, and return False."
   ]
  },
  {
   "cell_type": "code",
   "execution_count": null,
   "metadata": {
    "vscode": {
     "languageId": "plaintext"
    }
   },
   "outputs": [],
   "source": []
  },
  {
   "cell_type": "markdown",
   "metadata": {},
   "source": [
    "### 5. Write a function that returns the first `N` prime numbers.\n",
    "`n` is the input of the function. Make sure to use the function from above."
   ]
  },
  {
   "cell_type": "code",
   "execution_count": null,
   "metadata": {
    "vscode": {
     "languageId": "plaintext"
    }
   },
   "outputs": [],
   "source": []
  },
  {
   "cell_type": "markdown",
   "metadata": {},
   "source": [
    "### 6. Write a function that returns the factorial `!` of the input number.\n",
    "Make sure to check if the input is an integer, print out an error message and return None if it is not."
   ]
  },
  {
   "cell_type": "code",
   "execution_count": null,
   "metadata": {
    "vscode": {
     "languageId": "plaintext"
    }
   },
   "outputs": [],
   "source": []
  },
  {
   "cell_type": "markdown",
   "metadata": {},
   "source": [
    "### 7. We have a list a of users with various informations. Create a function that returns the selected attribute from the users.\n",
    "Call it extract, and have two parameters: users should be the input list of user dicts, attribute should be the name of the attribute to extract. If the attribute is not in the user dict, skip the record.\n",
    "\n",
    "Examples:\n",
    "```python\n",
    "extract(users, 'occupation')\n",
    "> ['photographer', 'CEO', 'nuclear physicist']\n",
    "```\n",
    "\n",
    "```python\n",
    "extract(users, 'age')\n",
    "> []\n",
    "```\n",
    "\n"
   ]
  },
  {
   "cell_type": "code",
   "execution_count": null,
   "metadata": {},
   "outputs": [],
   "source": [
    "users = [\n",
    "    {'name': 'Peter Parker', 'alterego': 'Spider-man', 'email': 'peter.parker@daily.com', 'occupation': 'photographer'},\n",
    "    {'name': 'Harry Osborn', 'alterego': 'Green Goblin', 'email': 'harry@osborne.com', 'occupation': 'CEO'},\n",
    "    {'name': 'Otto Octavius', 'alterego': 'Doctor Octopus', 'email': 'otto.octavius@atomki.com', 'occupation': 'nuclear physicist'},\n",
    "]\n"
   ]
  },
  {
   "cell_type": "markdown",
   "metadata": {},
   "source": [
    "### 8. Create a function called `merge` that merges lists together into list of dicts.\n",
    "The function should have two parameters: `lists` which is a list of lists to merge, and `names` that should contain the name of each list to use in the generated output. Make sure that the inputs have the same length (eg. no missing names from the `names` parameter) - if they are not, print an error message and return None.\n",
    "\n",
    "Examples:\n",
    "```python\n",
    "merge(lists=[names, ages], names=['name', 'age'])\n",
    "> [{'name': 'Peter Parker', 'age': 21}, {'name': 'Harry Osborn', 'age': 21}, {'name': 'Otto Octavius', 'age': 45}]\n",
    "```\n",
    "\n",
    "```python\n",
    "merge(lists=[names], names=['name'])\n",
    "> [{'name': 'Peter Parker'}, {'name': 'Harry Osborn'}, {'name': 'Otto Octavius'}]\n",
    "```\n",
    "\n",
    "```python\n",
    "merge(lists=[names], names=['name', 'age'])\n",
    "`ERROR: parameter length mismatch!`\n",
    "> None\n",
    "```"
   ]
  },
  {
   "cell_type": "code",
   "execution_count": null,
   "metadata": {},
   "outputs": [],
   "source": [
    "names = ['Peter Parker', 'Harry Osborn', 'Otto Octavius']\n",
    "alteregos = ['Spider-man', 'Green Goblin', 'Doctor Octopus']\n",
    "ages = [21, 21, 45]\n"
   ]
  }
 ],
 "metadata": {
  "language_info": {
   "name": "python"
  }
 },
 "nbformat": 4,
 "nbformat_minor": 2
}
