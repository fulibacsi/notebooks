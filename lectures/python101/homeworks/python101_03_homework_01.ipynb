{
 "cells": [
  {
   "cell_type": "markdown",
   "metadata": {},
   "source": [
    "### 1. **Exercise: Movie Night Voting**\n",
    "Create a program that helps a group of friends decide which movie to watch. Each friend has two movie options they can vote for. Your program should:\n",
    "- Use a list of dictionaries, where each dictionary contains a friend's name and their two movie preferences.\n",
    "- After all friends have voted, determine which movie received the most votes.\n",
    "- Print the winning movie. If there’s a tie, print all the movies that tied."
   ]
  },
  {
   "cell_type": "code",
   "execution_count": null,
   "metadata": {},
   "outputs": [],
   "source": [
    "votes = [{'name': 'Alice', 'choice1': 'Movie A', 'choice2': 'Movie B'},\n",
    "         {'name': 'Bob', 'choice1': 'Movie C', 'choice2': 'Movie A'},\n",
    "         {'name': 'Charlie', 'choice1': 'Movie B', 'choice2': 'Movie C'}]\n",
    "\n",
    "# Implement vote counting logic\n"
   ]
  },
  {
   "cell_type": "markdown",
   "metadata": {},
   "source": [
    "### 2. **Exercise: Pokémon Type Counter**\n",
    "Each Pokémon has one or more elemental types, like Fire, Water, or Grass. Create a program that helps a user analyze their Pokémon team’s elemental types.\n",
    "- Given a predefined dictionary where Pokémon names are the keys and their elemental types (as lists) are the values, write a program that counts how many Pokémon of each type the user has on their team.\n",
    "- Print a summary showing the total number of each type in the team."
   ]
  },
  {
   "cell_type": "code",
   "execution_count": null,
   "metadata": {},
   "outputs": [],
   "source": [
    "pokemon_types = {\n",
    "    'Pikachu': ['Electric'],\n",
    "    'Bulbasaur': ['Grass', 'Poison'],\n",
    "    'Charmander': ['Fire'],\n",
    "    'Squirtle': ['Water'],\n",
    "    'Jigglypuff': ['Normal', 'Fairy'],\n",
    "    'Meowth': ['Normal'],\n",
    "    'Psyduck': ['Water'],\n",
    "    'Oddish': ['Grass', 'Poison'],\n",
    "    'Vulpix': ['Fire']\n",
    "}\n",
    "\n",
    "team = ['Pikachu', 'Charmander', 'Squirtle', 'Oddish']\n",
    "\n",
    "# Implement type counting logic\n"
   ]
  },
  {
   "cell_type": "markdown",
   "metadata": {},
   "source": [
    "### 3. **Exercise: Leap Year Checker**\n",
    "Write a program that asks the user for a year and checks whether it is a leap year. A year is a leap year if:\n",
    "- It is divisible by 4,\n",
    "- Except for years divisible by 100, which are not leap years unless they are divisible by 400.\n",
    "Your program should use an if-elif-else structure to determine the outcome."
   ]
  },
  {
   "cell_type": "code",
   "execution_count": null,
   "metadata": {},
   "outputs": [],
   "source": [
    "year = int(input(\"Enter a year: \"))\n",
    "\n",
    "# Use conditions to check if it's a leap year and print the result\n"
   ]
  },
  {
   "cell_type": "markdown",
   "metadata": {},
   "source": [
    "### 4. **Exercise: Student Grades**\n",
    "Create a dictionary where the keys are student names and the values are lists of grades. \n",
    "- Write a program that calculates the average grade for each student and prints it.\n",
    "- If a student has an average grade above 75, print a congratulatory message."
   ]
  },
  {
   "cell_type": "code",
   "execution_count": null,
   "metadata": {},
   "outputs": [],
   "source": [
    "grades = {\n",
    "    'Alice': [88, 92, 79],\n",
    "    'Bob': [72, 67, 80],\n",
    "    'Charlie': [95, 85, 91]\n",
    "}\n",
    "\n",
    "# Calculate average grades and print congratulatory messages\n"
   ]
  },
  {
   "cell_type": "markdown",
   "metadata": {},
   "source": [
    "### 5. **Exercise: Unique Character Counter**\n",
    "Write a program that takes a string from the user and counts how many unique characters are in it.\n",
    "- Convert the string into a set to remove duplicates.\n",
    "- Print the total number of unique characters, ignoring spaces and case sensitivity."
   ]
  },
  {
   "cell_type": "code",
   "execution_count": null,
   "metadata": {},
   "outputs": [],
   "source": [
    "user_string = input(\"Enter a sentence: \")\n",
    "\n",
    "# Count and print the number of unique characters\n"
   ]
  },
  {
   "cell_type": "markdown",
   "metadata": {},
   "source": [
    "### Extra Challange. **Exercise: Pokémon Battle Simulator**\n",
    "In this exercise, your goal is to simulate a simple Pokémon battle where two Pokémon from a predefined list face off against each other.\n",
    "- Each Pokémon has a name, HP (Hit Points), and Attack Power, stored in a dictionary.\n",
    "- Write a program that simulates a battle where each Pokémon takes turns attacking the other.\n",
    "- Subtract the attacking Pokémon’s Attack Power from the opponent’s HP each turn.\n",
    "- The battle continues until one Pokémon’s HP reaches 0 or below.\n",
    "- Print the result of each turn and announce the winner at the end."
   ]
  },
  {
   "cell_type": "code",
   "execution_count": null,
   "metadata": {},
   "outputs": [],
   "source": [
    "pokemon_stats = {\n",
    "    'Pikachu': {'HP': 35, 'Attack': 55},\n",
    "    'Charmander': {'HP': 39, 'Attack': 52},\n",
    "    'Squirtle': {'HP': 44, 'Attack': 48},\n",
    "    'Bulbasaur': {'HP': 45, 'Attack': 49}\n",
    "}\n",
    "\n",
    "pokemon1 = 'Pikachu'\n",
    "pokemon2 = 'Charmander'\n",
    "\n",
    "# Implement the battle here\n"
   ]
  }
 ],
 "metadata": {
  "language_info": {
   "name": "python"
  }
 },
 "nbformat": 4,
 "nbformat_minor": 2
}
