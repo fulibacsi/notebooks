{
 "cells": [
  {
   "cell_type": "markdown",
   "metadata": {},
   "source": [
    "# Python 101 \n",
    "## Part III.\n",
    "\n",
    "---"
   ]
  },
  {
   "cell_type": "code",
   "execution_count": null,
   "metadata": {},
   "outputs": [],
   "source": [
    "import webbrowser\n",
    "from helpers import *"
   ]
  },
  {
   "cell_type": "markdown",
   "metadata": {},
   "source": [
    "---\n",
    "\n",
    "## Control structures\n",
    "\n",
    "### For loop\n",
    "\n",
    "- iterate on numbers"
   ]
  },
  {
   "cell_type": "code",
   "execution_count": null,
   "metadata": {},
   "outputs": [],
   "source": [
    "start = 1\n",
    "end = 11\n",
    "step = 1\n",
    "for number in range(start, end, step):\n",
    "    print(number)"
   ]
  },
  {
   "cell_type": "markdown",
   "metadata": {},
   "source": [
    "- iterate on values"
   ]
  },
  {
   "cell_type": "code",
   "execution_count": null,
   "metadata": {},
   "outputs": [],
   "source": [
    "my_list_of_things = ['a', 'b', 'c', 'd', \n",
    "                     1, 2, 3, 4, \n",
    "                     'foo', 'bar', 'baz', 'qux']\n",
    "for item in my_list_of_things:\n",
    "    print(item)"
   ]
  },
  {
   "cell_type": "code",
   "execution_count": null,
   "metadata": {},
   "outputs": [],
   "source": [
    "for char in 'the holy grail':\n",
    "    if char == ' ':\n",
    "        print('space', end='')\n",
    "    else:\n",
    "        print(char, end='')"
   ]
  },
  {
   "cell_type": "markdown",
   "metadata": {},
   "source": [
    "### While loop"
   ]
  },
  {
   "cell_type": "code",
   "execution_count": null,
   "metadata": {},
   "outputs": [],
   "source": [
    "condition = True\n",
    "counter = 1\n",
    "while(condition):\n",
    "    print(counter)\n",
    "    counter += 1\n",
    "    if counter > 10:\n",
    "        condition = False"
   ]
  },
  {
   "cell_type": "code",
   "execution_count": null,
   "metadata": {},
   "outputs": [],
   "source": [
    "i = 0\n",
    "string = 'the holy grail'\n",
    "while not string[i] == ' ':\n",
    "    print(string[i]),\n",
    "    i += 1"
   ]
  },
  {
   "cell_type": "markdown",
   "metadata": {},
   "source": [
    "### Excersise: Prisoner's dilemma\n",
    "\n",
    "Two members of a criminal-gang are arrested and imprisoned. Each prisoner is in solitary confinement with no means of communicating with the other. The prosecutors lack sufficient evidence to convinct the pair on the principal charge. They hope to get both sentenced to a year in prison on a lesser charge. Simultaneously, the prosecutors offer each prisoner a bargain. Each prisoner is given the oppurtunity either to: betray the other by testifying that the other committed the crime, or to cooperate with the other by remaining silent. The offer is:  \n",
    "\n",
    "- If A and B each betray the other, each of them serves 6 years in prison\n",
    "- If A betrays B but B remains silent, A will be set free and B will serve 10 years in prison (and vice versa)\n",
    "- If A and B both remain silent, both of them will only serve 6 months in prison (on the lesser charge)\n",
    "\n",
    "We describe the problem as a list of dictionaries containing the different decisions and thir outcomes. The `user_choice` variable represents the A prisoner's decision, the `AI_choice` is the B's. Print the correct outcome by iterating over the `decisions` list, and examining the decision. If the decision matches with the user and AI choices, print the outcome."
   ]
  },
  {
   "cell_type": "code",
   "execution_count": null,
   "metadata": {},
   "outputs": [],
   "source": [
    "decisions = [{'player1': False, 'player2': False, 'p1score': -0.5, 'p2score': -0.5},\n",
    "             {'player1': True, 'player2': False, 'p1score': 0, 'p2score': -10},\n",
    "             {'player1': False, 'player2': True, 'p1score': -10, 'p2score': 0},\n",
    "             {'player1': True, 'player2': True, 'p1score': -6, 'p2score': -6}]\n",
    "user_choice = True # set either True or False \n",
    "\n",
    "AI_choice = random.choice([True, False])"
   ]
  },
  {
   "cell_type": "markdown",
   "metadata": {},
   "source": [
    "**Iterate over the decision list and print the outcome in the matching case!**"
   ]
  },
  {
   "cell_type": "code",
   "execution_count": null,
   "metadata": {},
   "outputs": [],
   "source": []
  },
  {
   "cell_type": "markdown",
   "metadata": {},
   "source": [
    "---\n",
    "\n",
    "## List comprehension"
   ]
  },
  {
   "cell_type": "code",
   "execution_count": null,
   "metadata": {},
   "outputs": [],
   "source": [
    "sequence = [1, 2, 3, 4]\n",
    "print([item for item in sequence])\n",
    "print([item * 2 for item in sequence])"
   ]
  },
  {
   "cell_type": "code",
   "execution_count": null,
   "metadata": {},
   "outputs": [],
   "source": [
    "sequence = ['a', 'b', 'c']\n",
    "separator = ''\n",
    "print(separator.join([item for item in sequence]))\n",
    "separator = ', '\n",
    "print(separator.join([item for item in sequence]))"
   ]
  },
  {
   "cell_type": "markdown",
   "metadata": {},
   "source": [
    "---\n",
    "\n",
    "## Exercises\n",
    "\n",
    "__1. Given a list of urls, print the hungarian sites!__"
   ]
  },
  {
   "cell_type": "code",
   "execution_count": null,
   "metadata": {},
   "outputs": [],
   "source": [
    "urls = ['bbc.com', '444.hu', 'nbc.com', 'newyorktimes.com', 'origo.hu', 'index.hu']\n"
   ]
  },
  {
   "cell_type": "markdown",
   "metadata": {},
   "source": [
    "__2. The Seven Bridges of Königsberg is a well known graph theory problem. Given the length of every bridge compute the length of the shortest route.__\n",
    "\n",
    "<img src=\"https://upload.wikimedia.org/wikipedia/commons/5/5d/Konigsberg_bridges.png\" align=\"left\" width=\"200\">\n",
    "<img src=\"https://upload.wikimedia.org/wikipedia/commons/thumb/9/91/7_bridges.svg/358px-7_bridges.svg.png\" align=\"left\" width=\"200\">\n",
    "<img src=\"https://upload.wikimedia.org/wikipedia/commons/thumb/9/96/K%C3%B6nigsberg_graph.svg/360px-K%C3%B6nigsberg_graph.svg.png\" align=\"left\" width=\"200\">\n",
    "\n",
    "<br clear=\"left\"/>\n",
    "source: [Wikipedia](https://en.wikipedia.org/wiki/Seven_Bridges_of_K%C3%B6nigsberg)\n",
    "<br clear=\"left\"/>\n",
    "\n",
    "<p>Let the name of the bridges the following:</p>\n",
    "    \n",
    "<img src=\"pics/koningsberg.png\" width=\"300\" align=\"left\">"
   ]
  },
  {
   "cell_type": "code",
   "execution_count": null,
   "metadata": {},
   "outputs": [],
   "source": [
    "distances = {\n",
    "    'ABup': 3,\n",
    "    'ABdown': 4,\n",
    "    'ADup': 3,\n",
    "    'ADdown': 2,\n",
    "    'AC': 10,\n",
    "    'BC': 7,\n",
    "    'CD': 6,\n",
    "}\n",
    "routes = [\n",
    "    ['BC', 'ABdown', 'AC', 'CD', 'ADup', 'ADdown', 'ADdown', 'ABup'],\n",
    "    ['ABup', 'ABdown', 'ADdown', 'ADup', 'AC', 'CD', 'ADup', 'ABup', 'BC'],\n",
    "    ['ADdown', 'CD', 'BC', 'ABup', 'ABdown', 'BC', 'AC', 'ADup'],\n",
    "]"
   ]
  },
  {
   "cell_type": "code",
   "execution_count": null,
   "metadata": {},
   "outputs": [],
   "source": []
  },
  {
   "cell_type": "markdown",
   "metadata": {},
   "source": [
    "---\n",
    "\n",
    "## Functions\n",
    "\n",
    "**How to define a function?**"
   ]
  },
  {
   "cell_type": "code",
   "execution_count": null,
   "metadata": {},
   "outputs": [],
   "source": [
    "def my_function(): # function header\n",
    "    print('Hello World!') # function body"
   ]
  },
  {
   "cell_type": "markdown",
   "metadata": {},
   "source": [
    "**How to \"call\" a function?** "
   ]
  },
  {
   "cell_type": "code",
   "execution_count": null,
   "metadata": {},
   "outputs": [],
   "source": [
    "my_function()"
   ]
  },
  {
   "cell_type": "markdown",
   "metadata": {},
   "source": [
    "**Function arguments**\n",
    "\n",
    "The variables in the brackets are called arguments. You can use them as variables inside the function but you have to provide them when you call the function."
   ]
  },
  {
   "cell_type": "code",
   "execution_count": null,
   "metadata": {},
   "outputs": [],
   "source": [
    "def my_updated_function(name): \n",
    "    print('Hello', name, '!')"
   ]
  },
  {
   "cell_type": "code",
   "execution_count": null,
   "metadata": {},
   "outputs": [],
   "source": [
    "name = '' # enter your name\n",
    "my_updated_function(name)"
   ]
  },
  {
   "cell_type": "markdown",
   "metadata": {},
   "source": [
    "**Docstrings and return values**\n",
    "\n",
    "- Docstrings are used to document the function's behaviour\n",
    "- Return values are the values that are returned to the caller - you can use the returned value(s) where you called the function"
   ]
  },
  {
   "cell_type": "code",
   "execution_count": null,
   "metadata": {},
   "outputs": [],
   "source": [
    "def my_updated_updated_function(greeting, name):\n",
    "    \"\"\"This is my super descriptive docstring \n",
    "    for my super advanced function.\n",
    "    Arguments:\n",
    "        greeting: the greeting word.\n",
    "        name: the name of the greeted one.\"\"\"\n",
    "    return greeting + ' ' + name + '!'"
   ]
  },
  {
   "cell_type": "code",
   "execution_count": null,
   "metadata": {},
   "outputs": [],
   "source": [
    "greeting = 'Aye-aye'\n",
    "my_greeting = my_updated_updated_function(greeting, name)\n",
    "print(my_greeting)"
   ]
  },
  {
   "cell_type": "markdown",
   "metadata": {},
   "source": [
    "**Getting some help** == getting the docstring of a function\n",
    "- Using the built-in `help()` function\n",
    "- In Jupyter Notebook pressing [shift]-[tab] twice inside a functions' brackets"
   ]
  },
  {
   "cell_type": "code",
   "execution_count": null,
   "metadata": {},
   "outputs": [],
   "source": [
    "help(my_updated_updated_function)"
   ]
  },
  {
   "cell_type": "code",
   "execution_count": null,
   "metadata": {},
   "outputs": [],
   "source": [
    "print('My docstring:')\n",
    "print(my_updated_updated_function.__doc__)"
   ]
  },
  {
   "cell_type": "markdown",
   "metadata": {},
   "source": [
    "---\n",
    "\n",
    "## Let's do some...\n",
    "\n",
    "<img align=\"left\" width=150 src=\"pics/magic.gif\">\n",
    "<br style=\"clear:left;\"/>\n",
    "\n",
    "### Cool library of the week: moviepy\n",
    "- Edit videos in a few lines\n",
    "\n",
    "Real life example:\n",
    "- Our friend recorded a video with his/her cell in portrait mode. Awful! Let's rotate that video!"
   ]
  },
  {
   "cell_type": "code",
   "execution_count": null,
   "metadata": {},
   "outputs": [],
   "source": [
    "from moviepy.editor import *\n",
    "\n",
    "clip = VideoFileClip('./Rick Astley - Never Gonna Give You Up-dQw4w9WgXcQ.mkv')\n",
    "clip = clip.fx(vfx.rotate, 90)\n",
    "clip.write_videofile(\"./never_gonna_give_you_up_90.mp4\")"
   ]
  },
  {
   "cell_type": "markdown",
   "metadata": {},
   "source": [
    "---\n",
    "\n",
    "## Let's have some fun! a.k.a  \n",
    "## It's your turn - write the missing code snippets!\n",
    "\n",
    "Before we jump into action:\n",
    "\n",
    "---\n",
    "\n",
    "__** DISCLAIMER **__\n",
    "\n",
    "There are several functions defined in the `helpers.py` file. We loaded every function from it in the very first (ok, technically the second) cell so we can use those functions in the notebook. If in the following excersises you get a `hint` to use a function, it is usually defined there, and includes docstrings - don't forget to read what a function does before using it!\n",
    "\n",
    "__** END OF DISCLAIMER **__\n",
    "\n",
    "---\n",
    "\n",
    "#### 1. Now that we have everything we need, let's use it for a real life example: \n",
    "\n",
    "A `.csv` file called **`bookmark.csv`** contains links in two categories: \n",
    "\n",
    "- learn\n",
    "- fun\n",
    "\n",
    "Open every link from one of the categories in your browser by reading the file contents, iterating over the rows, and examining if the type of link matches with the selected category. Open the link using the `webbrowser.open_new_tab(url)` function.\n",
    "\n",
    "##### a) Import data from the `bookmark.csv` into `url_data` variable!\n",
    "**Hints:**\n",
    "- the date resides in the `data` folder\n",
    "- use the `import_from_csv` function\n",
    "- addition works with strings (make use of the `base` variable)"
   ]
  },
  {
   "cell_type": "code",
   "execution_count": null,
   "metadata": {},
   "outputs": [],
   "source": [
    "base = './data/'\n",
    "url_data = # write a function call here\n",
    "print(url_data)"
   ]
  },
  {
   "cell_type": "code",
   "execution_count": null,
   "metadata": {},
   "outputs": [],
   "source": [
    "reason = random.choice(['learn', 'fun'])"
   ]
  },
  {
   "cell_type": "markdown",
   "metadata": {},
   "source": [
    "##### b) Write a function which will open every link of the given type (learn/fun)!\n",
    "\n",
    "*Name*: opentabs  \n",
    "*Arguments*: reason, url_data  \n",
    "\n",
    "**Hints:**\n",
    "- you can use the `webbrowser.open_new_tab()` function\n",
    "- basic steps:\n",
    "    - define\n",
    "    - iterate\n",
    "    - check type\n",
    "    - open link"
   ]
  },
  {
   "cell_type": "code",
   "execution_count": null,
   "metadata": {},
   "outputs": [],
   "source": [
    "def opentabs(reason, url_data):\n",
    "    # write your code here"
   ]
  },
  {
   "cell_type": "code",
   "execution_count": null,
   "metadata": {},
   "outputs": [],
   "source": [
    "opentabs(reason, url_data)"
   ]
  },
  {
   "cell_type": "markdown",
   "metadata": {},
   "source": [
    "#### 2. We want to know if a file is in the current directory. Write a function which will tell you so.\n",
    "**Hint:** use the `list_files()` function to get the files from the working directory."
   ]
  },
  {
   "cell_type": "code",
   "execution_count": null,
   "metadata": {},
   "outputs": [],
   "source": [
    "def isin(filename):\n",
    "    # return the boolean result"
   ]
  },
  {
   "cell_type": "code",
   "execution_count": null,
   "metadata": {},
   "outputs": [],
   "source": [
    "print(isin('helpers.py'))\n",
    "print(isin('awesome.txt'))"
   ]
  },
  {
   "cell_type": "markdown",
   "metadata": {},
   "source": [
    "#### 3. Our friend recommends us a new series.  \n",
    "We downloaded the full series (7 seasons) and we believe that we downloaded all of the subtitles as well - although we're not that sure. Check if we miss some! We created a simulated `download_series` function for you, this will simply generate empty files for you to experiment with.\n",
    "\n",
    "##### a) \"Download\" the series with the function called `download_series`.  \n",
    "\n",
    "<img src=\"pics/download_series.gif\" width=600>\n",
    "\n",
    "**Hint:** use the `help` function!"
   ]
  },
  {
   "cell_type": "code",
   "execution_count": null,
   "metadata": {},
   "outputs": [],
   "source": [
    "# download_series function call goes here!\n"
   ]
  },
  {
   "cell_type": "markdown",
   "metadata": {},
   "source": [
    "##### b) Write a function which outputs those video filenames which are missing subtitles.  \n",
    "The video file's extension is `.avi`, the subtitle file's extension is `.srt`.   \n",
    "We only accept a subtitle if it's name is perfectly matches the video's name.  \n",
    "\n",
    "- Create a list of avis and a list of srts. \n",
    "- Iterate over the avis list\n",
    "- In the loop, check if the actual item is in the srts list"
   ]
  },
  {
   "cell_type": "code",
   "execution_count": null,
   "metadata": {},
   "outputs": [],
   "source": [
    "def missing_subtitle(directory):\n",
    "    # list, iterate, check, print\n",
    "    "
   ]
  },
  {
   "cell_type": "code",
   "execution_count": null,
   "metadata": {},
   "outputs": [],
   "source": [
    "missing_subtitle('super_series')"
   ]
  },
  {
   "cell_type": "markdown",
   "metadata": {},
   "source": [
    "#### 4. Display every image from the current directory (use the `list_files()` function)!  \n",
    "Valid image file extensions are `.png`, `.jpg`, `.jpeg`."
   ]
  },
  {
   "cell_type": "code",
   "execution_count": null,
   "metadata": {},
   "outputs": [],
   "source": [
    "def images():\n",
    "    # list, iterate, check, print\n",
    "    "
   ]
  },
  {
   "cell_type": "code",
   "execution_count": null,
   "metadata": {},
   "outputs": [],
   "source": [
    "images()"
   ]
  },
  {
   "cell_type": "markdown",
   "metadata": {},
   "source": [
    "#### 5. There is a csv file with picture urls. Display every picture from the CSV.\n",
    "\n",
    "\n",
    "The csv file is in the data folder and called `pics.csv`. \n",
    "- Iterate over the image_links\n",
    "- Use the `print_image` function with _type='net' parameter"
   ]
  },
  {
   "cell_type": "code",
   "execution_count": null,
   "metadata": {},
   "outputs": [],
   "source": [
    "image_links = import_from_csv(base + 'pictures.csv')"
   ]
  },
  {
   "cell_type": "code",
   "execution_count": null,
   "metadata": {},
   "outputs": [],
   "source": [
    "# iterate, check, print\n"
   ]
  },
  {
   "cell_type": "code",
   "execution_count": null,
   "metadata": {},
   "outputs": [],
   "source": []
  },
  {
   "cell_type": "markdown",
   "metadata": {},
   "source": [
    "#### 6. We have a csv file with cursewords. Write a function which substitutes the words  from the csv in an input text.\n",
    "\n",
    "The csv file is in the data folder and called `cursewords.csv`.\n",
    "1. Prepare cursewords: \n",
    "    - Read the csv file contents using the function from the previous exercise\n",
    "    - Create the list of cursewords from the function's output\n",
    "2. Filter cursewords from input text:\n",
    "    - Split the read text into words\n",
    "    - Iterate over the words\n",
    "    - Check if the current word is a curseword\n",
    "    - Change the word to the `substitution` parameter\n",
    "\n",
    "**Hints:**\n",
    " - `import_from_csv(path)` reads the csv data to a list\n",
    " - `string.split(splitchar)` splits the string\n",
    " - `string.lower()` will lower every char in the string\n",
    " - `string.strip(char_to_strip)`\n",
    " - `string.join(iterable)` will join the iterable elements together, the string will be the separator \n",
    " - commas will be part of the words"
   ]
  },
  {
   "cell_type": "code",
   "execution_count": null,
   "metadata": {},
   "outputs": [],
   "source": [
    "def clean(text, substitution='*#%=!'):\n",
    "    # read, split, iterate, check, substitute\n",
    "    "
   ]
  },
  {
   "cell_type": "code",
   "execution_count": null,
   "metadata": {},
   "outputs": [],
   "source": [
    "print(clean('A monkey and a donkey went to visit Boby .'))"
   ]
  },
  {
   "cell_type": "markdown",
   "metadata": {},
   "source": [
    "#### 7. Statistics!\n",
    "\n",
    "Let's say you flip a coin 50 times and it was heads 37 times. Would you say that it is a fair coin with 95% certainty?  \n",
    "At a regular statistics course you'd perform a t-test. But there is an easier way with python!  \n",
    "Simulate the 50 coin flipping 10000 times and see how many times were there 37 or more heads in the 50 flips."
   ]
  },
  {
   "cell_type": "code",
   "execution_count": null,
   "metadata": {},
   "outputs": [],
   "source": [
    "# write your code here"
   ]
  }
 ],
 "metadata": {
  "anaconda-cloud": {},
  "kernelspec": {
   "display_name": "Python 3",
   "language": "python",
   "name": "python3"
  },
  "language_info": {
   "codemirror_mode": {
    "name": "ipython",
    "version": 3
   },
   "file_extension": ".py",
   "mimetype": "text/x-python",
   "name": "python",
   "nbconvert_exporter": "python",
   "pygments_lexer": "ipython3",
   "version": "3.7.9"
  }
 },
 "nbformat": 4,
 "nbformat_minor": 1
}
