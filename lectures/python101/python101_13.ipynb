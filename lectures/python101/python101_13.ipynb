{
 "cells": [
  {
   "cell_type": "markdown",
   "metadata": {},
   "source": [
    "# Python 101\n",
    "## Part XII.\n",
    "\n",
    "---\n",
    "\n",
    "## Functional tools in Python\n",
    "\n",
    "#### What is <a href=\"https://docs.python.org/2/howto/functional.html\">functional programming</a>?\n",
    "\n",
    "According Python's documentation: <i>Functional programming decomposes a problem into a set of functions. Ideally, functions only take inputs and produce outputs, and don’t have any internal state that affects the output produced for a given input.  \n",
    "...  \n",
    "In a functional program, __input flows through a set of functions__. Each __function operates on__ its __input and produces__ some __output__. Functional style __discourages__ functions with __side effects__ that modify internal state or make other changes that aren’t visible in the function’s return value.</i>\n",
    "\n",
    "#### What functional tools are available in Python?\n",
    "- Built-in:\n",
    "    - lambda\n",
    "    - map\n",
    "    - filter\n",
    "    - reduce\n",
    "\n",
    "- Standard library:\n",
    "    - operators \n",
    "    - functools\n",
    "    - itertools\n",
    "- Third party library:\n",
    "    - toolz\n",
    "    - ctoolz\n",
    "    - and many-many more\n",
    "\n",
    "### Part I. Built-in tools\n",
    "\n",
    "#### a) <a href=\"https://docs.python.org/2/library/functions.html#map\">map(function, iterable, ...)</a>\n",
    "_Applies a function to every item of an iterable and return a list of the results._\n",
    "- Let's create a function called `foo`, and apply it to every item in a list:"
   ]
  },
  {
   "cell_type": "code",
   "execution_count": null,
   "metadata": {},
   "outputs": [],
   "source": [
    "def increment(x):\n",
    "    return x + 1"
   ]
  },
  {
   "cell_type": "code",
   "execution_count": null,
   "metadata": {},
   "outputs": [],
   "source": [
    "list(map(increment, range(10)))"
   ]
  },
  {
   "cell_type": "markdown",
   "metadata": {},
   "source": [
    "#### b) <a href=\"https://docs.python.org/2/reference/expressions.html#lambda\">lambda</a>\n",
    "Lambda functions are anonymous functions - functions without names. They usually exists only in a local context and never used outside of it.\n",
    "- Let's return to our previous example and use a lambda function instead of our pre-defined `increment` function:"
   ]
  },
  {
   "cell_type": "code",
   "execution_count": null,
   "metadata": {},
   "outputs": [],
   "source": [
    "list(map(lambda x: x+1, range(10)))"
   ]
  },
  {
   "cell_type": "markdown",
   "metadata": {},
   "source": [
    "##### Exercise: Using only map and lambda functions, generate the first 10 binary digit! (Hint: use range(10) as input)"
   ]
  },
  {
   "cell_type": "code",
   "execution_count": null,
   "metadata": {},
   "outputs": [],
   "source": []
  },
  {
   "cell_type": "markdown",
   "metadata": {},
   "source": [
    "#### c) <a href=\"https://docs.python.org/2/library/functions.html#filter\">filter(function, iterable)</a>\n",
    "_Filter constructs a list from those elements of an iterable for which a function returns true._\n",
    "- Let's filter out every odd number from a list of numbers:"
   ]
  },
  {
   "cell_type": "code",
   "execution_count": null,
   "metadata": {},
   "outputs": [],
   "source": [
    "def odd(x):\n",
    "    return x % 2\n",
    "list(filter(odd, range(10)))"
   ]
  },
  {
   "cell_type": "markdown",
   "metadata": {},
   "source": [
    "##### Exercise: Replace `odd` function with a lambda function!"
   ]
  },
  {
   "cell_type": "code",
   "execution_count": null,
   "metadata": {},
   "outputs": [],
   "source": []
  },
  {
   "cell_type": "markdown",
   "metadata": {},
   "source": [
    "##### Exercise: Write a list comprehension with the same effect!"
   ]
  },
  {
   "cell_type": "code",
   "execution_count": null,
   "metadata": {},
   "outputs": [],
   "source": []
  },
  {
   "cell_type": "markdown",
   "metadata": {},
   "source": [
    "#### d) <a href=\"https://docs.python.org/2/library/functions.html#reduce\">reduce(function, iterable[, initializer])</a>\n",
    "_Apply a function of two arguments cumulatively to the items of an iterable, from left to right, so as to reduce the iterable to a single value._\n",
    "- Let's sum a list of numbers:"
   ]
  },
  {
   "cell_type": "code",
   "execution_count": null,
   "metadata": {},
   "outputs": [],
   "source": [
    "from functools import reduce"
   ]
  },
  {
   "cell_type": "code",
   "execution_count": null,
   "metadata": {},
   "outputs": [],
   "source": [
    "def add(x, y):\n",
    "    return x + y\n",
    "reduce(add, range(10))"
   ]
  },
  {
   "cell_type": "markdown",
   "metadata": {},
   "source": [
    "- Let's replace `add` function with a lambda function:"
   ]
  },
  {
   "cell_type": "code",
   "execution_count": null,
   "metadata": {},
   "outputs": [],
   "source": [
    "reduce(lambda x, y: x + y, range(10))"
   ]
  },
  {
   "cell_type": "markdown",
   "metadata": {},
   "source": [
    "##### Exercise: compute `10!` (10 factorial)!"
   ]
  },
  {
   "cell_type": "code",
   "execution_count": null,
   "metadata": {},
   "outputs": [],
   "source": []
  },
  {
   "cell_type": "markdown",
   "metadata": {},
   "source": [
    "- When should we use reduce with specified initializer?"
   ]
  },
  {
   "cell_type": "code",
   "execution_count": null,
   "metadata": {},
   "outputs": [],
   "source": [
    "print(\"without:\", reduce(lambda x, y: (x[0]+y[0], x[1]-y[1]), \n",
    "                         [(5,5), (3,3), (2,4)]))\n",
    "print(\"with:\", reduce(lambda x, y: (x[0]+y[0], x[1]-y[1]),\n",
    "                      [(5,5), (3,3), (2,4)],\n",
    "                      (0,0)))"
   ]
  },
  {
   "cell_type": "markdown",
   "metadata": {},
   "source": [
    "##### Exercise: Merge a list of lists into one list!"
   ]
  },
  {
   "cell_type": "code",
   "execution_count": null,
   "metadata": {},
   "outputs": [],
   "source": [
    "nested = [range(i) for i in range(1, 6)]\n"
   ]
  },
  {
   "cell_type": "markdown",
   "metadata": {
    "collapsed": true
   },
   "source": [
    "#### e) Combine it together!\n",
    "Let's review our wordcount example with functional tools:\n",
    "0. split text\n",
    "1. lowercase text\n",
    "2. remove unwanted characters\n",
    "3. filter a set of words\n",
    "4. generate frequencies\n",
    "5. reduce into a dictionary"
   ]
  },
  {
   "cell_type": "code",
   "execution_count": null,
   "metadata": {},
   "outputs": [],
   "source": [
    "text = (\"This is your last chance. \"\n",
    "        \"After this, there is no turning back... \"\n",
    "        \"You take the blue pill, the story ends. \"\n",
    "        \"You wake up and belive... whatever you want to believe. \"\n",
    "        \"You take the red pill... you stay in wonderland... \"\n",
    "        \"and I show you just how deep the rabbit hole goes.\"\n",
    "        \"Remember...all I'm offering you is the truth : nothing more.\")\n",
    "unwanted_chars = '.:'\n",
    "words2remove = []"
   ]
  },
  {
   "cell_type": "markdown",
   "metadata": {},
   "source": [
    "- 1\\. split text\n",
    "- 2\\. lower text"
   ]
  },
  {
   "cell_type": "code",
   "execution_count": null,
   "metadata": {},
   "outputs": [],
   "source": [
    "lower = map(str.lower, text.split())\n",
    "list(lower)"
   ]
  },
  {
   "cell_type": "markdown",
   "metadata": {},
   "source": [
    "- 3\\. filter unwanted chars"
   ]
  },
  {
   "cell_type": "code",
   "execution_count": null,
   "metadata": {},
   "outputs": [],
   "source": [
    "char_filter =  lambda x: x not in unwanted_chars\n",
    "cleared_chars = map(lambda x: ''.join(filter(char_filter, x)), lower)\n",
    "list(cleared_chars)"
   ]
  },
  {
   "cell_type": "markdown",
   "metadata": {},
   "source": [
    "- 4\\. filter a set of words  "
   ]
  },
  {
   "cell_type": "code",
   "execution_count": null,
   "metadata": {},
   "outputs": [],
   "source": [
    "filtered = filter(lambda x: x not in words2remove, cleared_chars)\n",
    "list(filtered)"
   ]
  },
  {
   "cell_type": "markdown",
   "metadata": {},
   "source": [
    "- 5\\. generate frequencies"
   ]
  },
  {
   "cell_type": "code",
   "execution_count": null,
   "metadata": {},
   "outputs": [],
   "source": [
    "freqs = map(lambda x: (x, 1), filtered)\n",
    "list(freqs)"
   ]
  },
  {
   "cell_type": "markdown",
   "metadata": {},
   "source": [
    "- 6\\. reduce into a dictionary"
   ]
  },
  {
   "cell_type": "code",
   "execution_count": null,
   "metadata": {},
   "outputs": [],
   "source": [
    "import collections\n",
    "def add(x, y):\n",
    "    word, freq = y\n",
    "    x[word] += freq\n",
    "    return x\n",
    "\n",
    "results = reduce(add, freqs, collections.defaultdict(int))\n",
    "results"
   ]
  },
  {
   "cell_type": "markdown",
   "metadata": {},
   "source": [
    "---\n",
    "\n",
    "### Intermission\n",
    "\n",
    "Why should we complicate our live with this obscure reduce function?\n",
    "- The short answer is: because that's how the mapreduce paradigm works, and for example in <a href=\"\">(py)spark</a> the process would look like something like this:\n",
    "\n",
    "```\n",
    "data = (\n",
    "    text\n",
    "    .map(lambda x: x.lower)\n",
    "    .map(lambda x: ''.join(filter(char_filter, x)))\n",
    "    .filter(lambda x: x not in words2remove)\n",
    "    .map(lambda x: (x, 1))\n",
    "    .reduceByKey(lambda x, y: x+y)\n",
    ")\n",
    "```\n",
    "\n",
    "We can try a fake version of it:"
   ]
  },
  {
   "cell_type": "code",
   "execution_count": null,
   "metadata": {},
   "outputs": [],
   "source": [
    "from helpers import FakeMapReduce\n",
    "\n",
    "print(\n",
    "    FakeMapReduce(text.split())\n",
    "    .map(lambda x: x.lower())\n",
    "    .map(lambda x: ''.join(filter(char_filter, x)))\n",
    "    .filter(lambda x: x not in words2remove)\n",
    "    .map(lambda x: (x, 1))\n",
    "    .reduceByKey(lambda x, y: x+y)\n",
    ") "
   ]
  },
  {
   "cell_type": "markdown",
   "metadata": {},
   "source": [
    "---\n",
    "\n",
    "### Part II. Standard Library\n",
    "\n",
    "#### a)  <a href=\"https://docs.python.org/2/library/operator.html\">operators</a>\n",
    "_The operator module exports a set of efficient functions corresponding to the intrinsic operators of Python._\n",
    "\n",
    "It can be used to replace simple lambda functions - for more readability and more robustness.\n",
    "\n",
    "<i>\n",
    "Some of the functions in this module are:\n",
    "- Math operations: add(), sub(), mul(), div(), floordiv(), abs(), ...\n",
    "- Logical operations: not\\_(), truth().\n",
    "- Bitwise operations: and\\_(), or\\_(), invert().\n",
    "- Comparisons: eq(), ne(), lt(), le(), gt(), and ge().\n",
    "- Object identity: is\\_(), is\\_not().\n",
    "</i>"
   ]
  },
  {
   "cell_type": "code",
   "execution_count": null,
   "metadata": {},
   "outputs": [],
   "source": [
    "import operator"
   ]
  },
  {
   "cell_type": "markdown",
   "metadata": {},
   "source": [
    "##### Exercise:  Let's use them and compute the sum of every even number (from 0 to 10):"
   ]
  },
  {
   "cell_type": "code",
   "execution_count": null,
   "metadata": {},
   "outputs": [],
   "source": []
  },
  {
   "cell_type": "markdown",
   "metadata": {},
   "source": [
    "#### b) <a href=\"https://docs.python.org/2/library/functools.html\">functools</a>\n",
    "_The functools module is for higher-order functions: functions that act on or return other functions._  \n",
    "_The most useful tool in this module is the <a href=\"https://docs.python.org/2/library/functools.html?highlight=functools#functools.partial\">functools.partial()</a> function._"
   ]
  },
  {
   "cell_type": "code",
   "execution_count": null,
   "metadata": {},
   "outputs": [],
   "source": [
    "from functools import partial"
   ]
  },
  {
   "cell_type": "markdown",
   "metadata": {},
   "source": [
    "- Given a mathematical function `f`, create a partial function with fixed `a` parameter and use it to compute the function on the number from 0-9:"
   ]
  },
  {
   "cell_type": "code",
   "execution_count": null,
   "metadata": {},
   "outputs": [],
   "source": [
    "def f(a, b):\n",
    "    return a**2 - 2*a*b + 1\n",
    "\n",
    "list(map(partial(f, 2), range(10)))"
   ]
  },
  {
   "cell_type": "markdown",
   "metadata": {},
   "source": [
    "##### Exercise: Plot the previous function with different `a` values!\n",
    "- Extra: plot 10 of them to the same axes!"
   ]
  },
  {
   "cell_type": "code",
   "execution_count": null,
   "metadata": {},
   "outputs": [],
   "source": [
    "%matplotlib inline\n",
    "import matplotlib.pyplot as plt\n",
    "import seaborn as sns"
   ]
  },
  {
   "cell_type": "code",
   "execution_count": null,
   "metadata": {},
   "outputs": [],
   "source": []
  },
  {
   "cell_type": "markdown",
   "metadata": {},
   "source": [
    "##### Exercise: revisit the exercise with the binary digit computations! Create a partial function instead of a lambda function! (Hint: there's a `pow` function)"
   ]
  },
  {
   "cell_type": "code",
   "execution_count": null,
   "metadata": {},
   "outputs": [],
   "source": []
  },
  {
   "cell_type": "markdown",
   "metadata": {},
   "source": [
    "#### c) <a href=\"https://docs.python.org/2/library/itertools.html\">itertools</a>\n",
    "<i>\n",
    "The itertools module contains a number of commonly-used iterators as well as functions for combining several iterators.\n",
    "</i>\n",
    "\n",
    "Let's see the most intriguing functions:\n",
    "- <a href=\"https://docs.python.org/2/library/itertools.html#itertools.starmap\">itertools.starmap(func, iter)</a> assumes that the iterable will return a stream of tuples, and calls f() using these tuples as the arguments"
   ]
  },
  {
   "cell_type": "code",
   "execution_count": null,
   "metadata": {},
   "outputs": [],
   "source": [
    "import itertools"
   ]
  },
  {
   "cell_type": "code",
   "execution_count": null,
   "metadata": {},
   "outputs": [],
   "source": [
    "list(itertools.starmap(operator.add,\n",
    "                       [(3, 4), (5, 6), (9, 10)]))"
   ]
  },
  {
   "cell_type": "markdown",
   "metadata": {},
   "source": [
    "##### Exercise: A calculator is created where multiple instruction readed from the user.\n",
    "Your task is to return the results to every data entry. Every data entry follows the same format: (function to execute, list of numbers). You get your data as a list."
   ]
  },
  {
   "cell_type": "code",
   "execution_count": null,
   "metadata": {},
   "outputs": [],
   "source": [
    "data = [(operator.add, range(10)), \n",
    "        (operator.mul, range(1,4)),\n",
    "        (operator.truediv, range(10)),\n",
    "        (lambda x, y: x**y, range(2, 5))]"
   ]
  },
  {
   "cell_type": "code",
   "execution_count": null,
   "metadata": {},
   "outputs": [],
   "source": []
  },
  {
   "cell_type": "markdown",
   "metadata": {},
   "source": [
    "---\n",
    "\n",
    "## Let's do some...\n",
    "\n",
    "<img align=\"left\" width=150 src=\"pics/magic.gif\">\n",
    "<br style=\"clear:left;\"/>\n",
    "\n",
    "### Act III: Cool (not so python) library of the week: <a href=\"https://github.com/ggreer/the_silver_searcher\">The silver searcher</a>\n",
    "#### Search for strings super fast\n",
    "- General usage: `ag <search term>`"
   ]
  },
  {
   "cell_type": "code",
   "execution_count": null,
   "metadata": {},
   "outputs": [],
   "source": [
    "!ag random"
   ]
  }
 ],
 "metadata": {
  "kernelspec": {
   "display_name": "Python 3",
   "language": "python",
   "name": "python3"
  },
  "language_info": {
   "codemirror_mode": {
    "name": "ipython",
    "version": 3
   },
   "file_extension": ".py",
   "mimetype": "text/x-python",
   "name": "python",
   "nbconvert_exporter": "python",
   "pygments_lexer": "ipython3",
   "version": "3.7.0"
  }
 },
 "nbformat": 4,
 "nbformat_minor": 1
}
