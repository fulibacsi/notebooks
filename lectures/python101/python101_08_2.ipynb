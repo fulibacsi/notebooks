{
 "cells": [
  {
   "cell_type": "markdown",
   "metadata": {},
   "source": [
    "# Python 101 \n",
    "## Part VIII. - II.\n",
    "\n",
    "---\n",
    "\n",
    "## Web Scraping - Part III.\n",
    "\n",
    "### Dynamically generated pages\n",
    "\n",
    "Dynamically generated pages could not be parsed by simply downloading them since the generated content won't be present. For this case there is an another library called selenium. This library also requires a browser to operate. A browser will be started and every operation will be executed inside that browser. Its path must be set in order to use it."
   ]
  },
  {
   "cell_type": "code",
   "execution_count": null,
   "metadata": {},
   "outputs": [],
   "source": [
    "!conda install selenium -y"
   ]
  },
  {
   "cell_type": "code",
   "execution_count": null,
   "metadata": {},
   "outputs": [],
   "source": [
    "import os\n",
    "from helpers import get_download_dir, chromedriver_download\n",
    "\n",
    "chromedriver_download()\n",
    "os.environ['PATH'] += ';' + get_download_dir()"
   ]
  },
  {
   "cell_type": "code",
   "execution_count": null,
   "metadata": {},
   "outputs": [],
   "source": [
    "from selenium import webdriver\n",
    "from selenium.common.exceptions import NoSuchElementException"
   ]
  },
  {
   "cell_type": "markdown",
   "metadata": {},
   "source": [
    "#### a) Simple lookup\n",
    "- initialize the browser which will be used by the library"
   ]
  },
  {
   "cell_type": "code",
   "execution_count": null,
   "metadata": {},
   "outputs": [],
   "source": [
    "driver = webdriver.Chrome()"
   ]
  },
  {
   "cell_type": "markdown",
   "metadata": {},
   "source": [
    "- request a page"
   ]
  },
  {
   "cell_type": "code",
   "execution_count": null,
   "metadata": {},
   "outputs": [],
   "source": [
    "driver.get('http://9gag.com/random')"
   ]
  },
  {
   "cell_type": "markdown",
   "metadata": {},
   "source": [
    "- find items"
   ]
  },
  {
   "cell_type": "code",
   "execution_count": null,
   "metadata": {},
   "outputs": [],
   "source": [
    "try:\n",
    "    media = (\n",
    "        driver\n",
    "        .find_element_by_class_name('post-container')\n",
    "        .find_element_by_tag_name('img')\n",
    "        .get_attribute('src')\n",
    "    )\n",
    "except NoSuchElementException:\n",
    "    media = (\n",
    "        driver\n",
    "        .find_element_by_class_name('post-container')\n",
    "        .find_element_by_tag_name('video')\n",
    "        .find_element_by_tag_name('source')\n",
    "        .get_attribute('src')\n",
    "    )\n",
    "    \n",
    "print(media)"
   ]
  },
  {
   "cell_type": "markdown",
   "metadata": {},
   "source": [
    "Available finder methods:\n",
    "- `find_element_by_tag_name(tag)`\n",
    "- `find_elements_by_tag_name(tag)`\n",
    "- `find_element_by_class_name(class)`\n",
    "- `find_elements_by_class_name(class)`\n",
    "- `find_element_by_id(id)`\n",
    "- `find_element_by_css_selector(css_selector)`\n",
    "- `find_elements_by_css_selector(css_selector)`\n",
    "\n",
    "#### CSS selectors\n",
    "- `tagname`\n",
    "- `.classname`\n",
    "- `#id`\n",
    "- `[attribute=value]`"
   ]
  },
  {
   "cell_type": "code",
   "execution_count": null,
   "metadata": {},
   "outputs": [],
   "source": [
    "try:\n",
    "    media = (driver\n",
    "             .find_element_by_css_selector('#individual-post .post-container img')\n",
    "             .get_attribute('src'))\n",
    "except NoSuchElementException:\n",
    "    media = (driver\n",
    "             .find_element_by_css_selector('#individual-post .post-container video source')\n",
    "             .get_attribute('src'))\n",
    "    \n",
    "media"
   ]
  },
  {
   "cell_type": "markdown",
   "metadata": {},
   "source": [
    "#### b) Interaction with the site\n",
    "- request the page"
   ]
  },
  {
   "cell_type": "code",
   "execution_count": null,
   "metadata": {},
   "outputs": [],
   "source": [
    "driver.get('https://444.hu/kereses')"
   ]
  },
  {
   "cell_type": "markdown",
   "metadata": {},
   "source": [
    "- find search field"
   ]
  },
  {
   "cell_type": "code",
   "execution_count": null,
   "metadata": {},
   "outputs": [],
   "source": [
    "search_field = driver.find_element_by_css_selector('#content-main input[name=q]')"
   ]
  },
  {
   "cell_type": "markdown",
   "metadata": {},
   "source": [
    "- fill in search query"
   ]
  },
  {
   "cell_type": "code",
   "execution_count": null,
   "metadata": {},
   "outputs": [],
   "source": [
    "search_field.send_keys('migráns')"
   ]
  },
  {
   "cell_type": "markdown",
   "metadata": {},
   "source": [
    "- find submit button and click on it"
   ]
  },
  {
   "cell_type": "code",
   "execution_count": null,
   "metadata": {},
   "outputs": [],
   "source": [
    "submit_button = driver.find_element_by_css_selector('#content-main input[type=submit]')\n",
    "submit_button.click()"
   ]
  },
  {
   "cell_type": "markdown",
   "metadata": {},
   "source": [
    "- find related content"
   ]
  },
  {
   "cell_type": "code",
   "execution_count": null,
   "metadata": {},
   "outputs": [],
   "source": [
    "urls = []\n",
    "for article in driver.find_elements_by_class_name('card'):\n",
    "    urls.append(article.find_element_by_tag_name('a').get_attribute('href'))\n",
    "len(urls)"
   ]
  },
  {
   "cell_type": "markdown",
   "metadata": {},
   "source": [
    "- solution for infinite scrolldown"
   ]
  },
  {
   "cell_type": "code",
   "execution_count": null,
   "metadata": {},
   "outputs": [],
   "source": [
    "import time\n",
    "\n",
    "def scrolldown():\n",
    "    lastHeight = driver.execute_script(\"return document.body.scrollHeight\")\n",
    "    while True:\n",
    "        driver.execute_script(\"window.scrollTo(0, document.body.scrollHeight);\")\n",
    "        time.sleep(1)\n",
    "        newHeight = driver.execute_script(\"return document.body.scrollHeight\")\n",
    "        if newHeight == lastHeight:\n",
    "            break\n",
    "        lastHeight = newHeight\n",
    "    return True"
   ]
  },
  {
   "cell_type": "code",
   "execution_count": null,
   "metadata": {},
   "outputs": [],
   "source": [
    "urls = []\n",
    "button = True\n",
    "while button:\n",
    "    print('.', end='')\n",
    "    \n",
    "    scrolldown()\n",
    "    for article in driver.find_elements_by_class_name('card'):\n",
    "        urls.append(article.find_element_by_tag_name('a').get_attribute('href'))\n",
    "    try:\n",
    "        button = driver.find_element_by_css_selector('a.infinity-next.button')\n",
    "        button.click()\n",
    "    except NoSuchElementException:\n",
    "        button = False"
   ]
  },
  {
   "cell_type": "code",
   "execution_count": null,
   "metadata": {},
   "outputs": [],
   "source": [
    "len(urls)"
   ]
  },
  {
   "cell_type": "markdown",
   "metadata": {},
   "source": [
    "#### Exercise:\n",
    "Search for a specific brand of car in hasznaltauto.hu and list the car urls from the first page."
   ]
  },
  {
   "cell_type": "code",
   "execution_count": null,
   "metadata": {},
   "outputs": [],
   "source": []
  }
 ],
 "metadata": {
  "kernelspec": {
   "display_name": "Python 3",
   "language": "python",
   "name": "python3"
  },
  "language_info": {
   "codemirror_mode": {
    "name": "ipython",
    "version": 3
   },
   "file_extension": ".py",
   "mimetype": "text/x-python",
   "name": "python",
   "nbconvert_exporter": "python",
   "pygments_lexer": "ipython3",
   "version": "3.7.7"
  }
 },
 "nbformat": 4,
 "nbformat_minor": 2
}
