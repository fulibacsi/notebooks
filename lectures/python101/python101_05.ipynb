{
 "cells": [
  {
   "cell_type": "markdown",
   "metadata": {},
   "source": [
    "# Python 101\n",
    "## Part V.\n",
    "\n",
    "---\n",
    "\n",
    "## Exceptions and Exercises\n",
    "\n",
    "\n",
    "## 1. Exceptions\n",
    "\n",
    "### Errors\n",
    "\n",
    "If the code is syntactically incorrect the interpreter won't be able to execute it. -> You'll get a syntax error."
   ]
  },
  {
   "cell_type": "code",
   "execution_count": null,
   "metadata": {},
   "outputs": [],
   "source": [
    "while True print('Hello world')"
   ]
  },
  {
   "cell_type": "markdown",
   "metadata": {},
   "source": [
    "### Exceptions\n",
    "\n",
    "If the code is syntactically correct unexpected events can still happen during execution, and the program will terminate like this:"
   ]
  },
  {
   "cell_type": "code",
   "execution_count": 1,
   "metadata": {},
   "outputs": [
    {
     "name": "stdout",
     "output_type": "stream",
     "text": [
      "2.0\n"
     ]
    },
    {
     "ename": "ZeroDivisionError",
     "evalue": "division by zero",
     "output_type": "error",
     "traceback": [
      "\u001b[1;31m---------------------------------------------------------------------------\u001b[0m",
      "\u001b[1;31mZeroDivisionError\u001b[0m                         Traceback (most recent call last)",
      "\u001b[1;32m<ipython-input-1-6fd09496c9f6>\u001b[0m in \u001b[0;36m<module>\u001b[1;34m\u001b[0m\n\u001b[0;32m      3\u001b[0m \u001b[1;33m\u001b[0m\u001b[0m\n\u001b[0;32m      4\u001b[0m \u001b[0mprint\u001b[0m\u001b[1;33m(\u001b[0m\u001b[0mdivide\u001b[0m\u001b[1;33m(\u001b[0m\u001b[1;36m2\u001b[0m\u001b[1;33m,\u001b[0m \u001b[1;36m1\u001b[0m\u001b[1;33m)\u001b[0m\u001b[1;33m)\u001b[0m\u001b[1;33m\u001b[0m\u001b[1;33m\u001b[0m\u001b[0m\n\u001b[1;32m----> 5\u001b[1;33m \u001b[0mprint\u001b[0m\u001b[1;33m(\u001b[0m\u001b[0mdivide\u001b[0m\u001b[1;33m(\u001b[0m\u001b[1;36m1\u001b[0m\u001b[1;33m,\u001b[0m \u001b[1;36m0\u001b[0m\u001b[1;33m)\u001b[0m\u001b[1;33m)\u001b[0m\u001b[1;33m\u001b[0m\u001b[1;33m\u001b[0m\u001b[0m\n\u001b[0m\u001b[0;32m      6\u001b[0m \u001b[0mprint\u001b[0m\u001b[1;33m(\u001b[0m\u001b[0mdivide\u001b[0m\u001b[1;33m(\u001b[0m\u001b[1;36m3\u001b[0m\u001b[1;33m,\u001b[0m \u001b[1;36m2\u001b[0m\u001b[1;33m)\u001b[0m\u001b[1;33m)\u001b[0m\u001b[1;33m\u001b[0m\u001b[1;33m\u001b[0m\u001b[0m\n",
      "\u001b[1;32m<ipython-input-1-6fd09496c9f6>\u001b[0m in \u001b[0;36mdivide\u001b[1;34m(num1, num2)\u001b[0m\n\u001b[0;32m      1\u001b[0m \u001b[1;32mdef\u001b[0m \u001b[0mdivide\u001b[0m\u001b[1;33m(\u001b[0m\u001b[0mnum1\u001b[0m\u001b[1;33m,\u001b[0m \u001b[0mnum2\u001b[0m\u001b[1;33m)\u001b[0m\u001b[1;33m:\u001b[0m\u001b[1;33m\u001b[0m\u001b[1;33m\u001b[0m\u001b[0m\n\u001b[1;32m----> 2\u001b[1;33m     \u001b[1;32mreturn\u001b[0m \u001b[0mnum1\u001b[0m\u001b[1;33m/\u001b[0m\u001b[0mnum2\u001b[0m\u001b[1;33m\u001b[0m\u001b[1;33m\u001b[0m\u001b[0m\n\u001b[0m\u001b[0;32m      3\u001b[0m \u001b[1;33m\u001b[0m\u001b[0m\n\u001b[0;32m      4\u001b[0m \u001b[0mprint\u001b[0m\u001b[1;33m(\u001b[0m\u001b[0mdivide\u001b[0m\u001b[1;33m(\u001b[0m\u001b[1;36m2\u001b[0m\u001b[1;33m,\u001b[0m \u001b[1;36m1\u001b[0m\u001b[1;33m)\u001b[0m\u001b[1;33m)\u001b[0m\u001b[1;33m\u001b[0m\u001b[1;33m\u001b[0m\u001b[0m\n\u001b[0;32m      5\u001b[0m \u001b[0mprint\u001b[0m\u001b[1;33m(\u001b[0m\u001b[0mdivide\u001b[0m\u001b[1;33m(\u001b[0m\u001b[1;36m1\u001b[0m\u001b[1;33m,\u001b[0m \u001b[1;36m0\u001b[0m\u001b[1;33m)\u001b[0m\u001b[1;33m)\u001b[0m\u001b[1;33m\u001b[0m\u001b[1;33m\u001b[0m\u001b[0m\n",
      "\u001b[1;31mZeroDivisionError\u001b[0m: division by zero"
     ]
    }
   ],
   "source": [
    "def divide(num1, num2):\n",
    "    return num1/num2\n",
    "\n",
    "print(divide(2, 1))\n",
    "print(divide(1, 0))\n",
    "print(divide(3, 2))"
   ]
  },
  {
   "cell_type": "markdown",
   "metadata": {},
   "source": [
    "As we can see, dividing by zero is not possible, so a ZeroDivisionError emerged and our program stopped. Our program shouldn't stop running, so we have to handle these cases! -> Let's use Exceptions!"
   ]
  },
  {
   "cell_type": "code",
   "execution_count": 2,
   "metadata": {},
   "outputs": [
    {
     "name": "stdout",
     "output_type": "stream",
     "text": [
      "2.0\n",
      "Dividing by zero is not possible!\n",
      "0\n",
      "1.5\n"
     ]
    }
   ],
   "source": [
    "def divide(num1, num2):\n",
    "    # in order to catch the errors, we need to use the try except structure:\n",
    "    try:\n",
    "        # we try to do something\n",
    "        return num1/num2\n",
    "    # in case an exception happened, handle it!\n",
    "    except ZeroDivisionError:\n",
    "        print('Dividing by zero is not possible!')\n",
    "        return 0\n",
    "            \n",
    "print(divide(2, 1))\n",
    "print(divide(1, 0))\n",
    "print(divide(3, 2))"
   ]
  },
  {
   "cell_type": "markdown",
   "metadata": {},
   "source": [
    "ZeroDivisionError is a subclass of the Exception class. There are many different type of Exceptions."
   ]
  },
  {
   "cell_type": "code",
   "execution_count": 3,
   "metadata": {},
   "outputs": [
    {
     "name": "stdout",
     "output_type": "stream",
     "text": [
      "Dividing by zero is not possible!\n",
      "0\n"
     ]
    },
    {
     "ename": "TypeError",
     "evalue": "unsupported operand type(s) for /: 'int' and 'str'",
     "output_type": "error",
     "traceback": [
      "\u001b[1;31m---------------------------------------------------------------------------\u001b[0m",
      "\u001b[1;31mTypeError\u001b[0m                                 Traceback (most recent call last)",
      "\u001b[1;32m<ipython-input-3-955ef7f131e3>\u001b[0m in \u001b[0;36m<module>\u001b[1;34m\u001b[0m\n\u001b[0;32m      8\u001b[0m \u001b[0mprint\u001b[0m\u001b[1;33m(\u001b[0m\u001b[0mdivide\u001b[0m\u001b[1;33m(\u001b[0m\u001b[1;36m1\u001b[0m\u001b[1;33m,\u001b[0m \u001b[1;36m0\u001b[0m\u001b[1;33m)\u001b[0m\u001b[1;33m)\u001b[0m\u001b[1;33m\u001b[0m\u001b[1;33m\u001b[0m\u001b[0m\n\u001b[0;32m      9\u001b[0m \u001b[1;31m# for example this will cause a different type of exception:\u001b[0m\u001b[1;33m\u001b[0m\u001b[1;33m\u001b[0m\u001b[1;33m\u001b[0m\u001b[0m\n\u001b[1;32m---> 10\u001b[1;33m \u001b[0mprint\u001b[0m\u001b[1;33m(\u001b[0m\u001b[0mdivide\u001b[0m\u001b[1;33m(\u001b[0m\u001b[1;36m3\u001b[0m\u001b[1;33m,\u001b[0m \u001b[1;34m'2'\u001b[0m\u001b[1;33m)\u001b[0m\u001b[1;33m)\u001b[0m\u001b[1;33m\u001b[0m\u001b[1;33m\u001b[0m\u001b[0m\n\u001b[0m",
      "\u001b[1;32m<ipython-input-3-955ef7f131e3>\u001b[0m in \u001b[0;36mdivide\u001b[1;34m(num1, num2)\u001b[0m\n\u001b[0;32m      1\u001b[0m \u001b[1;32mdef\u001b[0m \u001b[0mdivide\u001b[0m\u001b[1;33m(\u001b[0m\u001b[0mnum1\u001b[0m\u001b[1;33m,\u001b[0m \u001b[0mnum2\u001b[0m\u001b[1;33m)\u001b[0m\u001b[1;33m:\u001b[0m\u001b[1;33m\u001b[0m\u001b[1;33m\u001b[0m\u001b[0m\n\u001b[0;32m      2\u001b[0m     \u001b[1;32mtry\u001b[0m\u001b[1;33m:\u001b[0m\u001b[1;33m\u001b[0m\u001b[1;33m\u001b[0m\u001b[0m\n\u001b[1;32m----> 3\u001b[1;33m         \u001b[1;32mreturn\u001b[0m \u001b[0mnum1\u001b[0m\u001b[1;33m/\u001b[0m\u001b[0mnum2\u001b[0m\u001b[1;33m\u001b[0m\u001b[1;33m\u001b[0m\u001b[0m\n\u001b[0m\u001b[0;32m      4\u001b[0m     \u001b[1;32mexcept\u001b[0m \u001b[0mZeroDivisionError\u001b[0m\u001b[1;33m:\u001b[0m\u001b[1;33m\u001b[0m\u001b[1;33m\u001b[0m\u001b[0m\n\u001b[0;32m      5\u001b[0m         \u001b[0mprint\u001b[0m\u001b[1;33m(\u001b[0m\u001b[1;34m'Dividing by zero is not possible!'\u001b[0m\u001b[1;33m)\u001b[0m\u001b[1;33m\u001b[0m\u001b[1;33m\u001b[0m\u001b[0m\n",
      "\u001b[1;31mTypeError\u001b[0m: unsupported operand type(s) for /: 'int' and 'str'"
     ]
    }
   ],
   "source": [
    "def divide(num1, num2):\n",
    "    try:\n",
    "        return num1/num2\n",
    "    except ZeroDivisionError:\n",
    "        print('Dividing by zero is not possible!')\n",
    "        return 0\n",
    "            \n",
    "print(divide(1, 0))\n",
    "# for example this will cause a different type of exception:\n",
    "print(divide(3, '2'))"
   ]
  },
  {
   "cell_type": "markdown",
   "metadata": {},
   "source": [
    "Like the TypeError. We cannot divide a number with a string. Let's fix it!"
   ]
  },
  {
   "cell_type": "code",
   "execution_count": 4,
   "metadata": {},
   "outputs": [
    {
     "name": "stdout",
     "output_type": "stream",
     "text": [
      "Dividing by zero is not possible!\n",
      "0\n",
      "Numbers can only be divided by numbers!\n",
      "0\n"
     ]
    }
   ],
   "source": [
    "def divide(num1, num2):\n",
    "    try:\n",
    "        return num1/num2\n",
    "    except ZeroDivisionError:\n",
    "        print('Dividing by zero is not possible!')\n",
    "        return 0\n",
    "    # we can have as many except branch as many we want!\n",
    "    except TypeError:\n",
    "        print('Numbers can only be divided by numbers!')\n",
    "        return 0\n",
    "            \n",
    "print(divide(1, 0))\n",
    "print(divide(3, '2'))"
   ]
  },
  {
   "cell_type": "markdown",
   "metadata": {},
   "source": [
    "We can also merge multiple exceptions into one:"
   ]
  },
  {
   "cell_type": "code",
   "execution_count": 5,
   "metadata": {},
   "outputs": [
    {
     "name": "stdout",
     "output_type": "stream",
     "text": [
      "ERROR!\n",
      "0\n",
      "ERROR!\n",
      "0\n"
     ]
    }
   ],
   "source": [
    "def divide(num1, num2):\n",
    "    try:\n",
    "        return num1/num2\n",
    "    except (ZeroDivisionError, TypeError):\n",
    "        print('ERROR!')\n",
    "        return 0\n",
    "            \n",
    "print(divide(1, 0))\n",
    "print(divide(3, '2'))"
   ]
  },
  {
   "cell_type": "markdown",
   "metadata": {},
   "source": [
    "Other exception types:\n",
    "\n",
    "- ValueError"
   ]
  },
  {
   "cell_type": "code",
   "execution_count": 6,
   "metadata": {},
   "outputs": [
    {
     "name": "stdout",
     "output_type": "stream",
     "text": [
      "This string is not a number!\n"
     ]
    }
   ],
   "source": [
    "try:\n",
    "    print(int('string'))\n",
    "except ValueError:\n",
    "    print('This string is not a number!')"
   ]
  },
  {
   "cell_type": "markdown",
   "metadata": {},
   "source": [
    "- NameError    "
   ]
  },
  {
   "cell_type": "code",
   "execution_count": 7,
   "metadata": {},
   "outputs": [
    {
     "name": "stdout",
     "output_type": "stream",
     "text": [
      "There is no such thing as 'spam'!\n"
     ]
    }
   ],
   "source": [
    "try:\n",
    "    print(spam)\n",
    "except NameError:\n",
    "    print('There is no such thing as \\'spam\\'!')"
   ]
  },
  {
   "cell_type": "markdown",
   "metadata": {},
   "source": [
    "- IndexError"
   ]
  },
  {
   "cell_type": "code",
   "execution_count": 8,
   "metadata": {},
   "outputs": [
    {
     "name": "stdout",
     "output_type": "stream",
     "text": [
      "Index is larger then the length of the list!\n"
     ]
    }
   ],
   "source": [
    "try:\n",
    "    mylist = [1, 2, 3]\n",
    "    print(mylist[len(mylist)])\n",
    "except IndexError:\n",
    "    print('Index is larger then the length of the list!')"
   ]
  },
  {
   "cell_type": "markdown",
   "metadata": {},
   "source": [
    "- KeyError"
   ]
  },
  {
   "cell_type": "code",
   "execution_count": 9,
   "metadata": {},
   "outputs": [
    {
     "name": "stdout",
     "output_type": "stream",
     "text": [
      "Key not exists!\n"
     ]
    }
   ],
   "source": [
    "try:\n",
    "    mydict = {'a': 1, 'b': 2}\n",
    "    print(mydict['c'])\n",
    "except KeyError:\n",
    "    print('Key not exists!')"
   ]
  },
  {
   "cell_type": "markdown",
   "metadata": {},
   "source": [
    "- IOError"
   ]
  },
  {
   "cell_type": "code",
   "execution_count": 10,
   "metadata": {},
   "outputs": [
    {
     "name": "stdout",
     "output_type": "stream",
     "text": [
      "The specified file does not exist!\n"
     ]
    }
   ],
   "source": [
    "try:\n",
    "    not_existing_filename = 'a_file_that_is_not_exists.txt'\n",
    "    myfile = open(not_existing_filename, 'r')\n",
    "    myfile.readlines()\n",
    "except IOError:\n",
    "    print('The specified file does not exist!')"
   ]
  },
  {
   "cell_type": "markdown",
   "metadata": {},
   "source": [
    "__BAD PRACTICE__: \n",
    "\n",
    "we can catch every exception, if we're not specifically tell the program which one we want to handle:"
   ]
  },
  {
   "cell_type": "code",
   "execution_count": 11,
   "metadata": {},
   "outputs": [
    {
     "name": "stdout",
     "output_type": "stream",
     "text": [
      "ERROR!\n",
      "0\n",
      "ERROR!\n",
      "0\n"
     ]
    }
   ],
   "source": [
    "def divide(num1, num2):\n",
    "    try:\n",
    "        return num1/num2\n",
    "    except:\n",
    "        print('ERROR!')\n",
    "        return 0\n",
    "            \n",
    "print(divide(1, 0))\n",
    "print(divide(3, '2'))"
   ]
  },
  {
   "cell_type": "markdown",
   "metadata": {},
   "source": [
    "It's really bad, because we don't know what caused the problem. But at least we can get the details:"
   ]
  },
  {
   "cell_type": "code",
   "execution_count": 12,
   "metadata": {},
   "outputs": [
    {
     "name": "stdout",
     "output_type": "stream",
     "text": [
      "ERROR! <class 'ZeroDivisionError'>\n",
      "0\n",
      "ERROR! <class 'TypeError'>\n",
      "0\n"
     ]
    }
   ],
   "source": [
    "def divide(num1, num2):\n",
    "    try:\n",
    "        return num1/num2\n",
    "    except Exception as e:\n",
    "        print('ERROR!', type(e))\n",
    "        return 0\n",
    "            \n",
    "print(divide(1, 0))\n",
    "print(divide(3, '2'))"
   ]
  },
  {
   "cell_type": "markdown",
   "metadata": {},
   "source": [
    "We can even invoke Exceptions:"
   ]
  },
  {
   "cell_type": "code",
   "execution_count": 13,
   "metadata": {},
   "outputs": [
    {
     "name": "stdout",
     "output_type": "stream",
     "text": [
      "This method is not yet implemented!\n",
      "<class 'Exception'>\n",
      "('This number is not 2!',)\n",
      "This number is not 2!\n",
      "('This number is not 2!',)\n"
     ]
    }
   ],
   "source": [
    "def awesome_function():\n",
    "    # you can invoke an Exception with the raise keyword\n",
    "    # use this Exception if you havent implemented a function yet\n",
    "    raise NotImplementedError(\"You've got to wait buddy!\")\n",
    "\n",
    "def foo(number):\n",
    "    if number != 2:\n",
    "        # general exception\n",
    "        raise Exception('This number is not 2!')\n",
    "            \n",
    "        \n",
    "try:\n",
    "    awesome_function()\n",
    "except NotImplementedError:\n",
    "    print('This method is not yet implemented!')\n",
    "    \n",
    "try:\n",
    "    foo(3)\n",
    "except Exception as e:\n",
    "    # print the \n",
    "    # - type of the Exception\n",
    "    print(type(e))\n",
    "    # - arguments of the Exception\n",
    "    print(e.args)\n",
    "    # - arguments of the Exception as string\n",
    "    print(e)\n",
    "    arg = e.args\n",
    "    # - arguments of the Exception saved in a variable\n",
    "    print(arg)"
   ]
  },
  {
   "cell_type": "markdown",
   "metadata": {},
   "source": [
    "If we want to execute something only if no Exceptions were raised, we can use the else statement."
   ]
  },
  {
   "cell_type": "code",
   "execution_count": 14,
   "metadata": {},
   "outputs": [
    {
     "ename": "TypeError",
     "evalue": "divide() missing 1 required positional argument: 'num2'",
     "output_type": "error",
     "traceback": [
      "\u001b[1;31m---------------------------------------------------------------------------\u001b[0m",
      "\u001b[1;31mTypeError\u001b[0m                                 Traceback (most recent call last)",
      "\u001b[1;32m<ipython-input-14-fca69d1e0593>\u001b[0m in \u001b[0;36m<module>\u001b[1;34m\u001b[0m\n\u001b[0;32m      7\u001b[0m         \u001b[0mprint\u001b[0m\u001b[1;33m(\u001b[0m\u001b[0mnum1\u001b[0m\u001b[1;33m,\u001b[0m \u001b[1;34m'/'\u001b[0m\u001b[1;33m,\u001b[0m \u001b[0mnum2\u001b[0m\u001b[1;33m,\u001b[0m \u001b[1;34m'='\u001b[0m \u001b[1;33m,\u001b[0m \u001b[0mresult\u001b[0m\u001b[1;33m)\u001b[0m\u001b[1;33m\u001b[0m\u001b[1;33m\u001b[0m\u001b[0m\n\u001b[0;32m      8\u001b[0m \u001b[1;33m\u001b[0m\u001b[0m\n\u001b[1;32m----> 9\u001b[1;33m \u001b[0mdivide\u001b[0m\u001b[1;33m(\u001b[0m\u001b[1;36m2\u001b[0m\u001b[1;33m,\u001b[0m \u001b[1;36m0\u001b[0m\u001b[1;33m)\u001b[0m\u001b[1;33m\u001b[0m\u001b[1;33m\u001b[0m\u001b[0m\n\u001b[0m\u001b[0;32m     10\u001b[0m \u001b[0mdivide\u001b[0m\u001b[1;33m(\u001b[0m\u001b[1;36m2\u001b[0m\u001b[1;33m,\u001b[0m \u001b[1;36m1\u001b[0m\u001b[1;33m)\u001b[0m\u001b[1;33m\u001b[0m\u001b[1;33m\u001b[0m\u001b[0m\n",
      "\u001b[1;31mTypeError\u001b[0m: divide() missing 1 required positional argument: 'num2'"
     ]
    }
   ],
   "source": [
    "def divide(self, num1, num2):\n",
    "    try:\n",
    "        result = num1 / num2\n",
    "    except ZeroDivisionError:\n",
    "        print('Cannot divide by Zero!')\n",
    "    else:\n",
    "        print(num1, '/', num2, '=' , result)\n",
    "            \n",
    "divide(2, 0)\n",
    "divide(2, 1)"
   ]
  },
  {
   "cell_type": "markdown",
   "metadata": {},
   "source": [
    "We can also add a cleanup method as well:"
   ]
  },
  {
   "cell_type": "code",
   "execution_count": 16,
   "metadata": {},
   "outputs": [
    {
     "name": "stdout",
     "output_type": "stream",
     "text": [
      "Cannot divide by Zero!\n",
      "finished running\n",
      "2 / 1 = 2.0\n",
      "finished running\n"
     ]
    }
   ],
   "source": [
    "def divide(num1, num2):\n",
    "    try:\n",
    "        result = num1 / num2\n",
    "    except ZeroDivisionError:\n",
    "        print('Cannot divide by Zero!')\n",
    "    else:\n",
    "        print(num1, '/', num2, '=' , result)\n",
    "    finally:\n",
    "        print('finished running')\n",
    "            \n",
    "divide(2, 0)\n",
    "divide(2, 1)"
   ]
  },
  {
   "cell_type": "markdown",
   "metadata": {},
   "source": [
    "---\n",
    "\n",
    "## Let's do some...\n",
    "\n",
    "<img align=\"left\" width=150 src=\"pics/magic.gif\">\n",
    "<br style=\"clear:left;\"/>\n",
    "\n",
    "### Not so Cool library of the week: Turtle\n",
    "#### Draw with a \"turtle\""
   ]
  },
  {
   "cell_type": "code",
   "execution_count": null,
   "metadata": {},
   "outputs": [],
   "source": [
    "import turtle"
   ]
  },
  {
   "cell_type": "code",
   "execution_count": null,
   "metadata": {},
   "outputs": [],
   "source": [
    "turtle.color('red', 'yellow')\n",
    "turtle.begin_fill()\n",
    "while True:\n",
    "    turtle.forward(200)\n",
    "    turtle.left(170)\n",
    "    if abs(turtle.pos()) < 1:\n",
    "        break\n",
    "turtle.end_fill()\n",
    "turtle.done()"
   ]
  },
  {
   "cell_type": "markdown",
   "metadata": {},
   "source": [
    "---"
   ]
  },
  {
   "cell_type": "markdown",
   "metadata": {},
   "source": [
    "## 2. Exercises\n",
    "Selected from [Tanuljunk meg programozni python nyelven](http://mek.oszk.hu/08400/08435/08435.pdf) from Gérard Swinnen.\n",
    "\n",
    "---\n",
    "\n",
    "### 1. Write a function that transforms a given amount of seconds into years, months, hours, minutes and seconds.\n",
    "\n",
    "Example: input: 311 --> output: 0 years, 0 months, 0 days, 0 hours, 5 minutes, 11 seconds\n",
    "\n",
    "Hint: `%`"
   ]
  },
  {
   "cell_type": "code",
   "execution_count": null,
   "metadata": {},
   "outputs": [],
   "source": []
  },
  {
   "cell_type": "markdown",
   "metadata": {},
   "source": [
    "### 2. Write a function that prints the multiplication table of number 7 (first 20 elements are enough, but we dare you to test the limitations of your computer). Elements that are also divisible by 3 should get a * label.\n",
    "Example: `7 14 21 * 28 35 42 * 49 ...`"
   ]
  },
  {
   "cell_type": "code",
   "execution_count": null,
   "metadata": {},
   "outputs": [],
   "source": []
  },
  {
   "cell_type": "markdown",
   "metadata": {},
   "source": [
    "### 3. Write a function that calculates the first 50 elements of the multiplication table of number 13 and prints the ones that are divisible by 7."
   ]
  },
  {
   "cell_type": "code",
   "execution_count": null,
   "metadata": {},
   "outputs": [],
   "source": []
  },
  {
   "cell_type": "markdown",
   "metadata": {},
   "source": [
    "### 4. Write a function which prints \"the half of a christmas tree\" with your code:\n",
    "```\n",
    "*\n",
    "**\n",
    "***\n",
    "****\n",
    "*****\n",
    "******\n",
    "*******\n",
    "```"
   ]
  },
  {
   "cell_type": "code",
   "execution_count": null,
   "metadata": {},
   "outputs": [],
   "source": []
  },
  {
   "cell_type": "markdown",
   "metadata": {},
   "source": [
    "### 4.a Extend the previous function with the height parameter with which the number of rows can be set."
   ]
  },
  {
   "cell_type": "code",
   "execution_count": null,
   "metadata": {},
   "outputs": [],
   "source": []
  },
  {
   "cell_type": "markdown",
   "metadata": {},
   "source": [
    "### 4.b Instead of half tree, display an arbitrary sized full tree\n",
    "\n",
    "Hint: \n",
    "```python\n",
    "'*'.center(width=3)\n",
    ">\" * \"\n",
    "```"
   ]
  },
  {
   "cell_type": "code",
   "execution_count": null,
   "metadata": {},
   "outputs": [],
   "source": []
  },
  {
   "cell_type": "markdown",
   "metadata": {},
   "source": [
    "### 4.c Instead of a tree, create an arbitrarily sized (only odd numbers are accepted) diamond shape.\n",
    "\n",
    "Example: \n",
    "- `size=3` should display: \n",
    "\n",
    "```\n",
    " * \n",
    "***\n",
    " * \n",
    "```\n",
    "\n",
    "- `size=5` should display: \n",
    "\n",
    "```\n",
    "  * \n",
    " ***\n",
    "*****\n",
    " ***\n",
    "  *\n",
    "```"
   ]
  },
  {
   "cell_type": "markdown",
   "metadata": {},
   "source": [
    "### 5. Write a function that decides whether a string contains the character `« e »` or not."
   ]
  },
  {
   "cell_type": "code",
   "execution_count": null,
   "metadata": {},
   "outputs": [],
   "source": []
  },
  {
   "cell_type": "markdown",
   "metadata": {},
   "source": [
    "### 6. Write a function that transforms text into \"szögödi\" dialect. It should replace all the `« e »` characters in a string with `« ö »`."
   ]
  },
  {
   "cell_type": "code",
   "execution_count": null,
   "metadata": {},
   "outputs": [],
   "source": []
  },
  {
   "cell_type": "markdown",
   "metadata": {},
   "source": [
    "### 7. Getting tired of `« e »` characters? Naah, one more: write a function that counts the number of `« e »` characters in a string."
   ]
  },
  {
   "cell_type": "code",
   "execution_count": null,
   "metadata": {},
   "outputs": [],
   "source": []
  },
  {
   "cell_type": "markdown",
   "metadata": {},
   "source": [
    "### 8. Write a function that inserts a * between every two characters in a string.\n",
    "\n",
    "Example: `gaston` > `g*a*s*t*o*n`"
   ]
  },
  {
   "cell_type": "code",
   "execution_count": null,
   "metadata": {},
   "outputs": [],
   "source": []
  },
  {
   "cell_type": "markdown",
   "metadata": {},
   "source": [
    "### 9. Write a function that prints a string in reverse order.\n",
    "Example: `live` > `evil`"
   ]
  },
  {
   "cell_type": "code",
   "execution_count": null,
   "metadata": {},
   "outputs": [],
   "source": []
  },
  {
   "cell_type": "markdown",
   "metadata": {},
   "source": [
    "### 10. Write a function that decides whether a string is  [palindrome](https://en.wikipedia.org/wiki/Palindrome) or not.\n",
    "Example: `python` > False, `mom` > True"
   ]
  },
  {
   "cell_type": "code",
   "execution_count": null,
   "metadata": {},
   "outputs": [],
   "source": []
  },
  {
   "cell_type": "markdown",
   "metadata": {},
   "source": [
    "### 10.a Extend the previous function to work with sentences as well (ignore casing, whitespace or symbols).\n",
    "\n",
    "Examples:\n",
    "- `Was it a car or a cat I saw?` > True\n",
    "- `Are we not pure? “No, sir!” Panama’s moody Noriega brags. “It is garbage!” Irony dooms a man—a prisoner up to new era.` > True\n",
    "- `Random not palindrome sentence` > False"
   ]
  },
  {
   "cell_type": "code",
   "execution_count": null,
   "metadata": {},
   "outputs": [],
   "source": []
  },
  {
   "cell_type": "markdown",
   "metadata": {},
   "source": [
    "### 11. Combine two lists into a third one like in the following example:\n",
    "`t1 = [31, 28, 31, 30, 31, 30, 31, 31, 30, 31, 30, 31]`  \n",
    "`t2 = ['January', 'February', 'March', 'April', 'May', 'June',\n",
    "       'July', 'August', 'September', 'Okteber', 'November', 'December']`\n",
    "       \n",
    "t3 should look like: `['January',31,'February',28,'March',31, ...].`"
   ]
  },
  {
   "cell_type": "code",
   "execution_count": null,
   "metadata": {},
   "outputs": [],
   "source": []
  },
  {
   "cell_type": "markdown",
   "metadata": {},
   "source": [
    "### 12. Given a list of numbers, create two separate list; one containing the even numbers, the other the odd numbers.\n",
    "\n",
    "Example:\n",
    "From `[32, 5, 12, 8, 3, 75, 2, 15]` the program should create `[32, 12, 8, 2]` and `[5, 3, 75, 15]`."
   ]
  },
  {
   "cell_type": "code",
   "execution_count": null,
   "metadata": {},
   "outputs": [],
   "source": []
  },
  {
   "cell_type": "markdown",
   "metadata": {},
   "source": [
    "### 13. Write a function that decides whether a given year is leap year or not.\n",
    "\n",
    "From [wiki](https://en.wikipedia.org/wiki/Leap_year#Gregorian_calendar):\n",
    "> Every year that is exactly divisible by four is a leap year, except for years that are exactly divisible by 100, but these centurial years are leap years if they are exactly divisible by 400. For example, the years 1700, 1800, and 1900 were not leap years, but the years 1600 and 2000 were."
   ]
  },
  {
   "cell_type": "code",
   "execution_count": null,
   "metadata": {},
   "outputs": [],
   "source": []
  },
  {
   "cell_type": "markdown",
   "metadata": {},
   "source": [
    "### 14. Write a `generate(n, char)` function that has two inputs: `n` and `char`. The output should be a string which contains `char` ,`n` times."
   ]
  },
  {
   "cell_type": "code",
   "execution_count": null,
   "metadata": {},
   "outputs": [],
   "source": []
  },
  {
   "cell_type": "markdown",
   "metadata": {},
   "source": [
    "### 15. Write a function called `count_char` that has two inputs :`char`, `string`. The output should be the number of appearances of `char` in `string`.\n",
    "\n",
    "Example: \n",
    "```python\n",
    "print(count_char('e', 'easy peasy'))\n",
    "> 2\n",
    "```"
   ]
  },
  {
   "cell_type": "code",
   "execution_count": null,
   "metadata": {},
   "outputs": [],
   "source": []
  },
  {
   "cell_type": "markdown",
   "metadata": {},
   "source": [
    "### 16. Write a function to play the \"Guess the number\" game\n",
    "\n",
    "Example: \n",
    "```python\n",
    "print(guess_a_number(from_number=1, to_number=10))\n",
    "> Guess: \n",
    "[5]\n",
    "> Lower, guess again: \n",
    "[3]\n",
    "> Congratulations, you won!\n",
    "```"
   ]
  },
  {
   "cell_type": "code",
   "execution_count": null,
   "metadata": {},
   "outputs": [],
   "source": []
  },
  {
   "cell_type": "markdown",
   "metadata": {},
   "source": [
    "### 17. Write a function to play the \"Guess the number\" game which handle erroneous inputs\n",
    "\n",
    "Example: \n",
    "```python\n",
    "print(guess_a_number(from_number=1, to_number=10))\n",
    "> Guess: \n",
    "[apple]\n",
    "> That's not a number, guess again:\n",
    "[15]\n",
    "> Number out of range, guess again: \n",
    "[5]\n",
    "> Lower, guess again: \n",
    "[3]\n",
    "> Congratulations, you won!\n",
    "```"
   ]
  },
  {
   "cell_type": "code",
   "execution_count": null,
   "metadata": {},
   "outputs": [],
   "source": []
  }
 ],
 "metadata": {
  "kernelspec": {
   "display_name": "Python 3",
   "language": "python",
   "name": "python3"
  },
  "language_info": {
   "codemirror_mode": {
    "name": "ipython",
    "version": 3
   },
   "file_extension": ".py",
   "mimetype": "text/x-python",
   "name": "python",
   "nbconvert_exporter": "python",
   "pygments_lexer": "ipython3",
   "version": "3.8.5"
  }
 },
 "nbformat": 4,
 "nbformat_minor": 2
}
