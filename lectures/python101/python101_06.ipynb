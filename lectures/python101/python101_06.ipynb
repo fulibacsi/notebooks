{
 "cells": [
  {
   "cell_type": "markdown",
   "metadata": {},
   "source": [
    "# Python 101\n",
    "## Part VI.\n",
    "\n",
    "---\n",
    "\n",
    "\n",
    "## Classes\n",
    "\n",
    "### Basics\n",
    "\n",
    "In Python, everything is an __`\"object\"`__. So when you create a variable, you actually created an object. The object you create is used to _store values_ (called __attribute__s) and _have special functions_ (called __method__s) which interacts with the object's values.\n",
    "You can even create your own objects, by defining a __`\"class\"`__.\n",
    "\n",
    "A class describes the object you will create and will determine what it can do. You manipulate the objects by calling their methods and setting their attributes to achieve the desired outcome.\n",
    "\n",
    "The process described above is a programming style - a programming paradigm, called __Object Oriented Programming__ (OO). It is one of the main paradigms. Our previous codes were created using the __Imperative__ paradigm. \n",
    "\n",
    "#### Basic OO workflow:\n",
    "\n",
    "- Define a class"
   ]
  },
  {
   "cell_type": "code",
   "execution_count": null,
   "metadata": {},
   "outputs": [],
   "source": [
    "class MyClass:\n",
    "    attribute = 1\n",
    "    def method(self):\n",
    "        print('Hello World!')"
   ]
  },
  {
   "cell_type": "markdown",
   "metadata": {},
   "source": [
    "- Initialize an object"
   ]
  },
  {
   "cell_type": "code",
   "execution_count": null,
   "metadata": {},
   "outputs": [],
   "source": [
    "myobject = MyClass()"
   ]
  },
  {
   "cell_type": "markdown",
   "metadata": {},
   "source": [
    "- Access the values you set in the class definition by using the `object_name.attribute_name` statement:"
   ]
  },
  {
   "cell_type": "code",
   "execution_count": null,
   "metadata": {},
   "outputs": [],
   "source": [
    "print(myobject.attribute)"
   ]
  },
  {
   "cell_type": "markdown",
   "metadata": {},
   "source": [
    "- Execute the functions from your class definition in the same way:"
   ]
  },
  {
   "cell_type": "code",
   "execution_count": null,
   "metadata": {},
   "outputs": [],
   "source": [
    "myobject.method()"
   ]
  },
  {
   "cell_type": "markdown",
   "metadata": {},
   "source": [
    "_Basically, the __class is the blueprint__ and the __object is the product__._\n",
    "\n",
    "---\n",
    "\n",
    "OO believers sais that the universe was created by calling its constructor, so let's create our solar system as an example:"
   ]
  },
  {
   "cell_type": "code",
   "execution_count": null,
   "metadata": {},
   "outputs": [],
   "source": [
    "# Galaxy class\n",
    "# Use the class keyword to create a class\n",
    "# The naming convention is to start the class' name with capital letter\n",
    "class Galaxy:\n",
    "    \"\"\"\n",
    "    This is a docstring for the Galaxy class.\n",
    "    If the user needs help, he/she can read this string.\n",
    "    \"\"\"\n",
    "    \n",
    "    # a class can have attributes and methods\n",
    "    # this is the 'creator' attribute\n",
    "    # the class attributes will be the same in every instance\n",
    "    creator = 'God'\n",
    "    \n",
    "    # this is the constructor method.\n",
    "    # the first argument is always the 'self', as a reference to the created object\n",
    "    def __init__(self, planets):\n",
    "        \"\"\"\n",
    "        Constructor function. When an object created, \n",
    "        this function will be executed.\n",
    "        \"\"\"\n",
    "        # object attribute. it's value will be set during init,\n",
    "        # so it can be different in every instance\n",
    "        self.planets = planets\n",
    "    \n",
    "    def print_planets(self):\n",
    "        \"\"\"\n",
    "        Print the planet's name from the universe.\n",
    "        \"\"\"\n",
    "        # you can access the object's attributes/methods inside the class\n",
    "        # by using the 'self' keyword\n",
    "        for planet in self.planets:\n",
    "            print(planet)\n",
    "            \n",
    "    def add_planet(self, planetname):\n",
    "        \"\"\"\n",
    "        Add a planet to the galaxy.\n",
    "        \"\"\"\n",
    "        self.planets.append(planetname)\n",
    "        \n",
    "    def remove_planet(self, planetname):\n",
    "        \"\"\"\n",
    "        Remove a planet from the galaxy.\n",
    "        \"\"\"\n",
    "        if planetname in self.planets:\n",
    "            self.planets.remove(planetname)"
   ]
  },
  {
   "cell_type": "markdown",
   "metadata": {},
   "source": [
    "Our blueprint is ready, let's create our mini Galaxy:"
   ]
  },
  {
   "cell_type": "code",
   "execution_count": null,
   "metadata": {},
   "outputs": [],
   "source": [
    "# list of planet names in the solar system\n",
    "planets_in_solar_system = [\n",
    "    'Sun', \n",
    "    'Mercury', \n",
    "    'Venus', \n",
    "    'Earth', \n",
    "    'Mars', \n",
    "    'Jupiter', \n",
    "    'Saturn', \n",
    "    'Uranus', \n",
    "    'Neptune', \n",
    "    'Pluto'\n",
    "]            "
   ]
  },
  {
   "cell_type": "markdown",
   "metadata": {},
   "source": [
    "- Create a Galaxy type object"
   ]
  },
  {
   "cell_type": "code",
   "execution_count": null,
   "metadata": {},
   "outputs": [],
   "source": [
    "solar_system = Galaxy(planets_in_solar_system)  # parameters are the same as the __init__ method"
   ]
  },
  {
   "cell_type": "markdown",
   "metadata": {},
   "source": [
    "- Call the created object's methods to manipulate it"
   ]
  },
  {
   "cell_type": "code",
   "execution_count": null,
   "metadata": {},
   "outputs": [],
   "source": [
    "solar_system.print_planets()"
   ]
  },
  {
   "cell_type": "code",
   "execution_count": null,
   "metadata": {},
   "outputs": [],
   "source": [
    "solar_system.remove_planet('Pluto')\n",
    "solar_system.print_planets()"
   ]
  },
  {
   "cell_type": "code",
   "execution_count": null,
   "metadata": {},
   "outputs": [],
   "source": [
    "solar_system.add_planet('Pluto')\n",
    "solar_system.print_planets()"
   ]
  },
  {
   "cell_type": "markdown",
   "metadata": {},
   "source": [
    "- Access the class' attribute"
   ]
  },
  {
   "cell_type": "code",
   "execution_count": null,
   "metadata": {},
   "outputs": [],
   "source": [
    "print(solar_system.creator)"
   ]
  },
  {
   "cell_type": "markdown",
   "metadata": {},
   "source": [
    "### Now it's your turn! \n",
    "\n",
    "Create an object to handle 2d mathematical points.\n",
    "\n",
    "- Use the class keyword to define the 'Point' class, and don't forget to add a docstring!\n",
    "- Define the constructor, with two arguments: x, y\n",
    "- Define a method (distance) which tells the distance between the point and an another point (given as an argument).\n",
    "\n",
    "\n"
   ]
  },
  {
   "cell_type": "code",
   "execution_count": 23,
   "metadata": {},
   "outputs": [
    {
     "data": {
      "text/plain": [
       "<__main__.Human at 0x7ffa96edf110>"
      ]
     },
     "execution_count": 23,
     "metadata": {},
     "output_type": "execute_result"
    }
   ],
   "source": []
  },
  {
   "cell_type": "markdown",
   "metadata": {},
   "source": [
    "### Inheritence\n",
    "\n",
    "Often two class have a lot in common: same attributes, same methods. In this case we can inherit one class from the other. \n",
    "\n",
    "Let's demonstrate it by creating a creature class!"
   ]
  },
  {
   "cell_type": "code",
   "execution_count": 24,
   "metadata": {},
   "outputs": [],
   "source": [
    "import datetime\n",
    "\n",
    "\n",
    "class Creature:\n",
    "    \"\"\"\n",
    "    Defines creatures.\n",
    "    \"\"\"\n",
    "    def __init__(self, name, born):\n",
    "        self.name = name\n",
    "        self.born = born\n",
    "        \n",
    "    def age(self):\n",
    "        return datetime.date.today().year - self.born\n",
    "    \n",
    "    def define(self):\n",
    "        print('It is a {} year old {}.'.format(self.age(), self.name))"
   ]
  },
  {
   "cell_type": "markdown",
   "metadata": {},
   "source": [
    "Let's say that we also want to create a human class.  \n",
    "Humans are also creatures, so they naturally has some common attributes with the creatures.\n",
    "\n",
    "Let's inherit the human class from the creature class!"
   ]
  },
  {
   "cell_type": "code",
   "execution_count": 25,
   "metadata": {},
   "outputs": [],
   "source": [
    "class Human(Creature):\n",
    "    \"\"\"\n",
    "    Defines a human.\n",
    "    \"\"\"\n",
    "    def __init__(self, name, age):\n",
    "        super().__init__('human', age)\n",
    "        self.firstname = name\n",
    "        \n",
    "    def define(self):\n",
    "        super().define()\n",
    "        print('His/Her name is {}'.format(self.firstname))"
   ]
  },
  {
   "cell_type": "code",
   "execution_count": 26,
   "metadata": {},
   "outputs": [
    {
     "name": "stdout",
     "output_type": "stream",
     "text": [
      "It is a 3 year old dog.\n"
     ]
    }
   ],
   "source": [
    "# creature\n",
    "dog = Creature('dog', 2017)\n",
    "dog.define()"
   ]
  },
  {
   "cell_type": "code",
   "execution_count": 27,
   "metadata": {},
   "outputs": [
    {
     "name": "stdout",
     "output_type": "stream",
     "text": [
      "It is a 20 year old human.\n",
      "His/Her name is Anna\n"
     ]
    }
   ],
   "source": [
    "# human\n",
    "anna = Human('Anna', 2000)\n",
    "anna.define()"
   ]
  },
  {
   "cell_type": "markdown",
   "metadata": {},
   "source": [
    "### Your turn! \n",
    "\n",
    "Create a 3d point class which is inherited from the 2d point class!\n",
    "\n",
    "- Inherit the new class from the Point class! Let's call it 'Point3d'!\n",
    "- In the `__init__` function we'll now have a third attribute called `'z'` as well!\n",
    "- Don't forget to call the 2d point's constructor method!\n",
    "- Define a new distance function (distance3d) to compute 3d distance\n"
   ]
  },
  {
   "cell_type": "code",
   "execution_count": null,
   "metadata": {},
   "outputs": [],
   "source": []
  },
  {
   "cell_type": "markdown",
   "metadata": {},
   "source": [
    "From now on, every top level class should inherit from the `object` class. It is the \"new type\" object introduced in Python 2.3, and now it is the standard. It is recommended to inherit your classes from `object` for compatibility reasons. If you don't it's up to you. _You've been warned!_\n",
    "\n",
    "---\n",
    "\n",
    "## Let's do some...\n",
    "\n",
    "<img align=\"left\" width=150 src=\"pics/magic.gif\">\n",
    "<br style=\"clear:left;\"/>\n",
    "\n",
    "### Cool library of the week: NLTK\n",
    "#### Analyze texts in a few lines\n",
    "\n",
    "- download required assets"
   ]
  },
  {
   "cell_type": "code",
   "execution_count": null,
   "metadata": {},
   "outputs": [],
   "source": [
    "import nltk\n",
    "nltk.download(['punkt', 'stopwords'])"
   ]
  },
  {
   "cell_type": "markdown",
   "metadata": {},
   "source": [
    "- download and extract the first LOTR book"
   ]
  },
  {
   "cell_type": "code",
   "execution_count": null,
   "metadata": {},
   "outputs": [],
   "source": [
    "import requests\n",
    "from bs4 import BeautifulSoup\n",
    "\n",
    "url ='http://ae-lib.org.ua/texts-c/tolkien__the_lord_of_the_rings_{book}__en.htm'\n",
    "LOTR = requests.get(url.format(book=1)).content\n",
    "LOTR = BeautifulSoup(LOTR, \"html.parser\").getText()"
   ]
  },
  {
   "cell_type": "markdown",
   "metadata": {},
   "source": [
    "- write a stopword and punctuation filter"
   ]
  },
  {
   "cell_type": "code",
   "execution_count": null,
   "metadata": {},
   "outputs": [],
   "source": [
    "def needed(token):\n",
    "    stopword = token not in nltk.corpus.stopwords.words('english')\n",
    "    number = not token.isnumeric()\n",
    "    length = len(token) > 1 # can be 2 as well\n",
    "    return stopword and number and length\n",
    "\n",
    "list(filter(needed, u'I am the number 1 Elephant in the world'.split()))"
   ]
  },
  {
   "cell_type": "markdown",
   "metadata": {},
   "source": [
    "- tokenize words\n",
    "- filter out stopwords and punctuations"
   ]
  },
  {
   "cell_type": "code",
   "execution_count": null,
   "metadata": {},
   "outputs": [],
   "source": [
    "tokens = nltk.word_tokenize(LOTR.lower())\n",
    "tokens = filter(needed, tokens)"
   ]
  },
  {
   "cell_type": "markdown",
   "metadata": {},
   "source": [
    "- compute word frequencies\n",
    "- show the top 25 words"
   ]
  },
  {
   "cell_type": "code",
   "execution_count": null,
   "metadata": {},
   "outputs": [],
   "source": [
    "wordcount = nltk.FreqDist(tokens)\n",
    "wordcount.most_common(25)"
   ]
  },
  {
   "cell_type": "markdown",
   "metadata": {},
   "source": [
    "#### Let's play a little!  \n",
    "Check how did the top25 words change through the trilogy!"
   ]
  },
  {
   "cell_type": "code",
   "execution_count": null,
   "metadata": {},
   "outputs": [],
   "source": [
    "wordcounts = []\n",
    "for book in range(1,4):\n",
    "    print('Processing book {}'.format(book), end='')\n",
    "    LOTR = requests.get(url.format(book=book)).content\n",
    "    print('.', end='')\n",
    "    LOTR = BeautifulSoup(LOTR, \"html.parser\").getText() \n",
    "    print('.', end='')\n",
    "    tokens = filter(needed, nltk.word_tokenize(LOTR.lower()))\n",
    "    print('.', end=' ')\n",
    "    wordcounts.append(nltk.FreqDist(tokens).most_common(25))\n",
    "    print('Done.')"
   ]
  },
  {
   "cell_type": "code",
   "execution_count": null,
   "metadata": {},
   "outputs": [],
   "source": [
    "wordcounts[0]"
   ]
  },
  {
   "cell_type": "code",
   "execution_count": null,
   "metadata": {},
   "outputs": [],
   "source": [
    "wordcounts[1]"
   ]
  },
  {
   "cell_type": "code",
   "execution_count": null,
   "metadata": {},
   "outputs": [],
   "source": [
    "wordcounts[2]"
   ]
  },
  {
   "cell_type": "markdown",
   "metadata": {},
   "source": [
    "## Challenge time! a.k.a\n",
    "## It's your turn - write the missing code snippets!\n",
    "\n",
    "#### 1. Create the RPS game as a class!\n",
    "\n",
    "- The object should have a class attribute: a list of possible moves\n",
    "- The constructor shouldn't have any arguments => you don't have to define it at all\n",
    "- There should be a move method which should randomly return a move\n",
    "- Finally, there should be a play method, which should play the game:\n",
    "    - ask for a move\n",
    "    - generate a move\n",
    "    - decide who won"
   ]
  },
  {
   "cell_type": "code",
   "execution_count": null,
   "metadata": {},
   "outputs": [],
   "source": [
    "import random\n"
   ]
  },
  {
   "cell_type": "markdown",
   "metadata": {},
   "source": [
    "#### 2. Create a cheater RPS:\n",
    "\n",
    "- It should have a history object attribute which stores the user previous moves, so an `__init__` method is a must\n",
    "- The move method should use the history to randomly pick the AI's move (hint: use `random.choice` function)\n",
    "- The play method should be the same as the regular RPS class' play method but also should store the player's decisions into the history attribute"
   ]
  },
  {
   "cell_type": "code",
   "execution_count": null,
   "metadata": {},
   "outputs": [],
   "source": []
  },
  {
   "cell_type": "markdown",
   "metadata": {},
   "source": [
    "#### Extra - GUI\n",
    "\n",
    "Install the kivy library:\n",
    "\n",
    "```bash\n",
    "conda install kivy -y\n",
    "```"
   ]
  },
  {
   "cell_type": "code",
   "execution_count": null,
   "metadata": {},
   "outputs": [],
   "source": [
    "from kivy.config import Config\n",
    "Config.set('graphics', 'fullscreen', '0')\n",
    "\n",
    "from helpers import RPSApp, ExampleRPS\n",
    "\n",
    "from kivy.interactive import InteractiveLauncher\n",
    "\n",
    "# TODOs:\n",
    "# - uncomment last line\n",
    "# - replace `YOURCLASS` with your cheater rps class's name\n",
    "\n",
    "# launcher = InteractiveLauncher(RPSApp(YOURCLASS))"
   ]
  },
  {
   "cell_type": "code",
   "execution_count": null,
   "metadata": {},
   "outputs": [],
   "source": [
    "launcher.run()"
   ]
  },
  {
   "cell_type": "markdown",
   "metadata": {},
   "source": [
    "#### 3. Write a stock system!\n",
    "\n",
    "- Write a product class.\n",
    "    - It should have a name and a price. \n",
    "- Write a store class! \n",
    "    - It should have a stock of products. \n",
    "    - It should be able to restock, and sell.\n",
    "    - The restock method should have 2 arguments: product and amount\n",
    "    - The sell method should have 1 argument: the list of products.\n",
    "    - The sell method shoud print what was sold, and if it is out of stock."
   ]
  },
  {
   "cell_type": "code",
   "execution_count": null,
   "metadata": {},
   "outputs": [],
   "source": []
  },
  {
   "cell_type": "markdown",
   "metadata": {},
   "source": [
    "#### 4. More geometry\n",
    "Write a 2d point class. Using the point class, create a rectangle class which will store the 4 cornerpoints. Make it able to compute it's area!  \n",
    "Inherit a square class from the rectangle class!\n",
    "\n",
    "What classes should you write?\n",
    "\n",
    "- Point class\n",
    "- Rectangle class\n",
    "- Square class"
   ]
  },
  {
   "cell_type": "code",
   "execution_count": null,
   "metadata": {},
   "outputs": [],
   "source": []
  },
  {
   "cell_type": "markdown",
   "metadata": {},
   "source": [
    "#### 5. Create the one ring\n",
    "Define the one ring. It should have:\n",
    "- a class attribute, it's real owner\n",
    "- an object attribute, it's current owner/bearer\n",
    "- an object attribute, it's description\n",
    "- an object attribute, if it is weared currently, or not\n",
    "- a wear method, which set the previous attribute to true, and prints a message: _\"Hi [real owner's name]! I'm [current owner's name], and I'm here, wearing your ring!\"_\n",
    "- any special power method which can do whatever you want - use your imagination!"
   ]
  },
  {
   "cell_type": "code",
   "execution_count": null,
   "metadata": {},
   "outputs": [],
   "source": []
  },
  {
   "cell_type": "markdown",
   "metadata": {},
   "source": [
    "#### 6. CHALLANGE TIME: The bouncy ball\n",
    "\n",
    "Create a `Ball` class inherited from the `Point2d` class. A bouncy ball has:\n",
    "- a position: `x` and `y`\n",
    "- a velocity in both axis: `vx` and `vy`\n",
    "- a border in both axis: `max_x` and `max_y`\n",
    "\n",
    "The user should be able to specify these values *during the **init**ialization*. \n",
    "\n",
    "The bouncy ball will move with its current velocity until it collides with either the maximum border (`max_x` or `max_y`) or the minimum border (`0`). Once collided, their respected velocity will change its direction to its opposite (if the ball hits the `maxx` border, its `vx` changes to `-vx`).\n",
    "\n",
    "The movement is simulated step by step (in a method called `step`). In each step the ball should advance based on its velocities, and the collision is checked and the velocities are updated accordingly.\n",
    "\n",
    "**Complete the empty skeleton in the next cell!** To check your results, change the ball object from `DemoBall` to your `Ball` class and start a simulation."
   ]
  },
  {
   "cell_type": "code",
   "execution_count": null,
   "metadata": {},
   "outputs": [],
   "source": [
    "class Ball(object):\n",
    "    \n",
    "    def __init__(self):\n",
    "        pass\n",
    "    \n",
    "    def step(self):\n",
    "        pass"
   ]
  },
  {
   "cell_type": "code",
   "execution_count": null,
   "metadata": {},
   "outputs": [],
   "source": [
    "from helpers import BouncyBallSimulator, DemoBall"
   ]
  },
  {
   "cell_type": "code",
   "execution_count": null,
   "metadata": {},
   "outputs": [],
   "source": [
    "ball = DemoBall(x=0, y=0, vx=1, vy=1, max_x=5, max_y=40)"
   ]
  },
  {
   "cell_type": "code",
   "execution_count": null,
   "metadata": {},
   "outputs": [],
   "source": [
    "BouncyBallSimulator(ball).show()"
   ]
  }
 ],
 "metadata": {
  "kernelspec": {
   "display_name": "Python 3",
   "language": "python",
   "name": "python3"
  },
  "language_info": {
   "codemirror_mode": {
    "name": "ipython",
    "version": 3
   },
   "file_extension": ".py",
   "mimetype": "text/x-python",
   "name": "python",
   "nbconvert_exporter": "python",
   "pygments_lexer": "ipython3",
   "version": "3.8.5"
  }
 },
 "nbformat": 4,
 "nbformat_minor": 1
}
