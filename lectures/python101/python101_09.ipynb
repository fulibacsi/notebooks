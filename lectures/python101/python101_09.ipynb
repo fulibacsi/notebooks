{
 "cells": [
  {
   "cell_type": "markdown",
   "metadata": {},
   "source": [
    "# Python 101 \n",
    "## Part IX.\n",
    "\n",
    "---\n",
    "\n",
    "## Web Scraping - Part III.\n",
    "\n",
    "### I. [SelectorGadget](https://chrome.google.com/webstore/detail/selectorgadget/mhjhnkcfbdhnjickkkdbjoemdmbfginb)\n",
    "\n",
    "__Making life easier to select the proper content from a website. The ones and only the ones you need.__\n",
    "\n",
    "1. Click on the SelectorGadget icon to activate it. It is located in the upper right corner.\n",
    "2. Right after clicking this, a bar will appear in the bottom right corner of the chrome window. Also you will realise that as you start moving the cursor, things will get frames. Do not panick, this is normal!\n",
    "![frame](pics/bar.png)\n",
    "3. You will probably want to get multiple instances of the same type of content (e.g. pictures from the main page of telex.hu). \n",
    "4. Rules for selection:\n",
    " - First click to mark an instace of the type of content you like\n",
    "  ![example](pics/example_selector.png) <br></br>\n",
    " - The same type of content will also be framed. If there is something you want to exclude (e.g. the telex logo at the top or the tiny weather icon), click on one of them. Starting with the second click, you may exclude anything. The program is smart enough to figure out that if you did not want the telex logo, it is likely that you will want to exclude the weather icon as well. Therefore, it is going to be removed automatically.<br></br>\n",
    "   ![example](pics/good_state.png)\n",
    "- In the bottom right corner, you will see the magic command (`.article_title img`) you should use to select all the content you want. Run `soup.select()` to get a list of instances."
   ]
  },
  {
   "cell_type": "markdown",
   "metadata": {},
   "source": [
    "Let try it!"
   ]
  },
  {
   "cell_type": "code",
   "execution_count": 5,
   "metadata": {},
   "outputs": [],
   "source": [
    "import requests\n",
    "from bs4 import BeautifulSoup"
   ]
  },
  {
   "cell_type": "code",
   "execution_count": 2,
   "metadata": {},
   "outputs": [],
   "source": [
    "url = \"https://telex.hu\"\n",
    "response = requests.get(url)\n",
    "soup = BeautifulSoup(response.content)"
   ]
  },
  {
   "cell_type": "markdown",
   "metadata": {},
   "source": [
    "So far, this is business as usual. Let's get the pictures!"
   ]
  },
  {
   "cell_type": "code",
   "execution_count": 3,
   "metadata": {},
   "outputs": [
    {
     "data": {
      "text/plain": [
       "['https://telex.hu/uploads/img-cache/1/6/0/4/1/1604183279-temp-nojejh-20201031-600-400-100-zc.jpg',\n",
       " 'https://telex.hu/uploads/img-cache/1/6/0/4/2/1604218087-temp-domhhn-20201101-600-400-100-zc.jpg',\n",
       " 'https://telex.hu/uploads/img-cache/1/6/0/3/9/1603929666-temp-dbldhi-20201029-600-400-100-zc.jpg',\n",
       " 'https://telex.hu/uploads/img-cache/1/6/0/4/2/1604216187-temp-jmkepb-20201101-600-400-100-zc.jpg',\n",
       " 'https://telex.hu/uploads/img-cache/1/6/0/3/9/1603979303-temp-eknigj-20201029-600-400-100-zc.jpg',\n",
       " 'https://telex.hu/uploads/img-cache/1/6/0/4/2/1604216980-temp-elgaal-20201101-600-400-100-zc.jpg',\n",
       " 'https://telex.hu/uploads/img-cache/1/6/0/4/2/1604212014-temp-cofmli-20201101-600-400-100-zc.jpg',\n",
       " 'https://telex.hu/uploads/img-cache/1/6/0/4/0/1604076898-temp-eackea-20201030-600-400-100-zc.jpg',\n",
       " 'https://telex.hu/uploads/img-cache/1/6/0/4/1/1604180810-temp-oeonhj-20201031-600-400-100-zc.jpg',\n",
       " 'https://telex.hu/uploads/img-cache/1/6/0/4/1/1604176702-temp-jgenbl-20201031-600-400-100-zc.jpg',\n",
       " 'https://telex.hu/uploads/img-cache/1/6/0/3/9/1603959222-temp-offbgp-20201029-600-400-100-zc.jpg',\n",
       " 'https://telex.hu/uploads/img-cache/1/6/0/4/1/1604148530-temp-acghnk-20201031-600-400-100-zc.jpg',\n",
       " 'https://telex.hu/uploads/img-cache/1/6/0/3/8/1603873839-temp-kjalpp-20201028-600-400-100-zc.jpg',\n",
       " 'https://telex.hu/uploads/img-cache/1/6/0/4/1/1604155971-temp-kbdgjc-20201031-600-400-100-zc.jpg',\n",
       " 'https://telex.hu/uploads/img-cache/1/6/0/4/1/1604185443-temp-mgndhn-20201031-600-400-100-zc.jpg',\n",
       " 'https://telex.hu/uploads/img-cache/1/6/0/3/8/1603800494-temp-ihhmpb-20201027-600-400-100-zc.jpg']"
      ]
     },
     "execution_count": 3,
     "metadata": {},
     "output_type": "execute_result"
    }
   ],
   "source": [
    "image_list = []\n",
    "for image in soup.select(\".article_title img\"): # select will always return a list\n",
    "    image_list.append(url + image.get(\"src\")) # prefix is needed\n",
    "image_list"
   ]
  },
  {
   "cell_type": "markdown",
   "metadata": {},
   "source": [
    "Ooooor the way cool kids do it. List comprehension:"
   ]
  },
  {
   "cell_type": "code",
   "execution_count": 4,
   "metadata": {},
   "outputs": [
    {
     "data": {
      "text/plain": [
       "['https://telex.hu/uploads/img-cache/1/6/0/4/1/1604183279-temp-nojejh-20201031-600-400-100-zc.jpg',\n",
       " 'https://telex.hu/uploads/img-cache/1/6/0/4/2/1604218087-temp-domhhn-20201101-600-400-100-zc.jpg',\n",
       " 'https://telex.hu/uploads/img-cache/1/6/0/3/9/1603929666-temp-dbldhi-20201029-600-400-100-zc.jpg',\n",
       " 'https://telex.hu/uploads/img-cache/1/6/0/4/2/1604216187-temp-jmkepb-20201101-600-400-100-zc.jpg',\n",
       " 'https://telex.hu/uploads/img-cache/1/6/0/3/9/1603979303-temp-eknigj-20201029-600-400-100-zc.jpg',\n",
       " 'https://telex.hu/uploads/img-cache/1/6/0/4/2/1604216980-temp-elgaal-20201101-600-400-100-zc.jpg',\n",
       " 'https://telex.hu/uploads/img-cache/1/6/0/4/2/1604212014-temp-cofmli-20201101-600-400-100-zc.jpg',\n",
       " 'https://telex.hu/uploads/img-cache/1/6/0/4/0/1604076898-temp-eackea-20201030-600-400-100-zc.jpg',\n",
       " 'https://telex.hu/uploads/img-cache/1/6/0/4/1/1604180810-temp-oeonhj-20201031-600-400-100-zc.jpg',\n",
       " 'https://telex.hu/uploads/img-cache/1/6/0/4/1/1604176702-temp-jgenbl-20201031-600-400-100-zc.jpg',\n",
       " 'https://telex.hu/uploads/img-cache/1/6/0/3/9/1603959222-temp-offbgp-20201029-600-400-100-zc.jpg',\n",
       " 'https://telex.hu/uploads/img-cache/1/6/0/4/1/1604148530-temp-acghnk-20201031-600-400-100-zc.jpg',\n",
       " 'https://telex.hu/uploads/img-cache/1/6/0/3/8/1603873839-temp-kjalpp-20201028-600-400-100-zc.jpg',\n",
       " 'https://telex.hu/uploads/img-cache/1/6/0/4/1/1604155971-temp-kbdgjc-20201031-600-400-100-zc.jpg',\n",
       " 'https://telex.hu/uploads/img-cache/1/6/0/4/1/1604185443-temp-mgndhn-20201031-600-400-100-zc.jpg',\n",
       " 'https://telex.hu/uploads/img-cache/1/6/0/3/8/1603800494-temp-ihhmpb-20201027-600-400-100-zc.jpg']"
      ]
     },
     "execution_count": 4,
     "metadata": {},
     "output_type": "execute_result"
    }
   ],
   "source": [
    "[url + image.get(\"src\") for image in soup.select(\".article_title img\")]"
   ]
  },
  {
   "cell_type": "markdown",
   "metadata": {},
   "source": [
    "![coolkids](https://a.wattpad.com/cover/163492905-352-k572763.jpg)"
   ]
  },
  {
   "cell_type": "markdown",
   "metadata": {},
   "source": [
    "#### Exercise I:\n",
    "Search for a specific brand of car in hasznaltauto.hu and list the car urls from the first page."
   ]
  },
  {
   "cell_type": "code",
   "execution_count": null,
   "metadata": {},
   "outputs": [],
   "source": []
  },
  {
   "cell_type": "markdown",
   "metadata": {},
   "source": [
    "#### Exercise II:\n",
    "Get some pieces of information on the real estate market of Budapest. Check out all the houses on [ingatlan.com](https://ingatlan.com/lista/elado+lakas+budapest) and get the following content for the __first page__.\n",
    "- Price\n",
    "- Unit price (displayed in _Ft/m2_)\n",
    "- Number of rooms\n",
    "- Area (displayed in _m2_)\n",
    "\n",
    "Make sure you select the proper format of storing these variable! Printing them is not enough, save them!"
   ]
  },
  {
   "cell_type": "code",
   "execution_count": null,
   "metadata": {},
   "outputs": [],
   "source": []
  },
  {
   "cell_type": "markdown",
   "metadata": {},
   "source": [
    "### II. Dynamically generated pages\n",
    "\n",
    "Dynamically generated pages could not be parsed by simply downloading them since the generated content won't be present. For this case there is an another library called selenium. This library also requires a browser to operate. A browser will be started and every operation will be executed inside that browser. Its path must be set in order to use it."
   ]
  },
  {
   "cell_type": "code",
   "execution_count": null,
   "metadata": {},
   "outputs": [],
   "source": [
    "!conda install selenium -y"
   ]
  },
  {
   "cell_type": "code",
   "execution_count": null,
   "metadata": {},
   "outputs": [],
   "source": [
    "import os\n",
    "from helpers import get_download_dir, chromedriver_download\n",
    "\n",
    "chromedriver_download()\n",
    "os.environ['PATH'] += ';' + get_download_dir()"
   ]
  },
  {
   "cell_type": "code",
   "execution_count": null,
   "metadata": {},
   "outputs": [],
   "source": [
    "from selenium import webdriver\n",
    "from selenium.common.exceptions import NoSuchElementException"
   ]
  },
  {
   "cell_type": "markdown",
   "metadata": {},
   "source": [
    "#### a) Simple lookup\n",
    "- initialize the browser which will be used by the library"
   ]
  },
  {
   "cell_type": "code",
   "execution_count": null,
   "metadata": {},
   "outputs": [],
   "source": [
    "driver = webdriver.Chrome()"
   ]
  },
  {
   "cell_type": "markdown",
   "metadata": {},
   "source": [
    "- request a page"
   ]
  },
  {
   "cell_type": "code",
   "execution_count": null,
   "metadata": {},
   "outputs": [],
   "source": [
    "driver.get('http://9gag.com/random')"
   ]
  },
  {
   "cell_type": "markdown",
   "metadata": {},
   "source": [
    "- find items"
   ]
  },
  {
   "cell_type": "code",
   "execution_count": null,
   "metadata": {},
   "outputs": [],
   "source": [
    "try:\n",
    "    media = (\n",
    "        driver\n",
    "        .find_element_by_class_name('post-container')\n",
    "        .find_element_by_tag_name('img')\n",
    "        .get_attribute('src')\n",
    "    )\n",
    "except NoSuchElementException:\n",
    "    media = (\n",
    "        driver\n",
    "        .find_element_by_class_name('post-container')\n",
    "        .find_element_by_tag_name('video')\n",
    "        .find_element_by_tag_name('source')\n",
    "        .get_attribute('src')\n",
    "    )\n",
    "    \n",
    "print(media)"
   ]
  },
  {
   "cell_type": "markdown",
   "metadata": {},
   "source": [
    "Available finder methods:\n",
    "- `find_element_by_tag_name(tag)`\n",
    "- `find_elements_by_tag_name(tag)`\n",
    "- `find_element_by_class_name(class)`\n",
    "- `find_elements_by_class_name(class)`\n",
    "- `find_element_by_id(id)`\n",
    "- `find_element_by_css_selector(css_selector)`\n",
    "- `find_elements_by_css_selector(css_selector)`\n",
    "\n",
    "#### CSS selectors\n",
    "- `tagname`\n",
    "- `.classname`\n",
    "- `#id`\n",
    "- `[attribute=value]`"
   ]
  },
  {
   "cell_type": "code",
   "execution_count": null,
   "metadata": {},
   "outputs": [],
   "source": [
    "try:\n",
    "    media = (driver\n",
    "             .find_element_by_css_selector('#individual-post .post-container img')\n",
    "             .get_attribute('src'))\n",
    "except NoSuchElementException:\n",
    "    media = (driver\n",
    "             .find_element_by_css_selector('#individual-post .post-container video source')\n",
    "             .get_attribute('src'))\n",
    "    \n",
    "media"
   ]
  },
  {
   "cell_type": "markdown",
   "metadata": {},
   "source": [
    "#### b) Interaction with the site\n",
    "- request the page"
   ]
  },
  {
   "cell_type": "code",
   "execution_count": null,
   "metadata": {},
   "outputs": [],
   "source": [
    "driver.get('https://444.hu/kereses')"
   ]
  },
  {
   "cell_type": "markdown",
   "metadata": {},
   "source": [
    "- find search field"
   ]
  },
  {
   "cell_type": "code",
   "execution_count": null,
   "metadata": {},
   "outputs": [],
   "source": [
    "search_field = driver.find_element_by_css_selector('#content-main input[name=q]')"
   ]
  },
  {
   "cell_type": "markdown",
   "metadata": {},
   "source": [
    "- fill in search query"
   ]
  },
  {
   "cell_type": "code",
   "execution_count": null,
   "metadata": {},
   "outputs": [],
   "source": [
    "search_field.send_keys('migráns')"
   ]
  },
  {
   "cell_type": "markdown",
   "metadata": {},
   "source": [
    "- find submit button and click on it"
   ]
  },
  {
   "cell_type": "code",
   "execution_count": null,
   "metadata": {},
   "outputs": [],
   "source": [
    "submit_button = driver.find_element_by_css_selector('#content-main input[type=submit]')\n",
    "submit_button.click()"
   ]
  },
  {
   "cell_type": "markdown",
   "metadata": {},
   "source": [
    "- find related content"
   ]
  },
  {
   "cell_type": "code",
   "execution_count": null,
   "metadata": {},
   "outputs": [],
   "source": [
    "urls = []\n",
    "for article in driver.find_elements_by_class_name('card'):\n",
    "    urls.append(article.find_element_by_tag_name('a').get_attribute('href'))\n",
    "len(urls)"
   ]
  },
  {
   "cell_type": "markdown",
   "metadata": {},
   "source": [
    "- solution for infinite scrolldown"
   ]
  },
  {
   "cell_type": "code",
   "execution_count": null,
   "metadata": {},
   "outputs": [],
   "source": [
    "import time\n",
    "\n",
    "def scrolldown():\n",
    "    lastHeight = driver.execute_script(\"return document.body.scrollHeight\")\n",
    "    while True:\n",
    "        driver.execute_script(\"window.scrollTo(0, document.body.scrollHeight);\")\n",
    "        time.sleep(1)\n",
    "        newHeight = driver.execute_script(\"return document.body.scrollHeight\")\n",
    "        if newHeight == lastHeight:\n",
    "            break\n",
    "        lastHeight = newHeight\n",
    "    return True"
   ]
  },
  {
   "cell_type": "code",
   "execution_count": null,
   "metadata": {},
   "outputs": [],
   "source": [
    "urls = []\n",
    "button = True\n",
    "while button:\n",
    "    print('.', end='')\n",
    "    \n",
    "    scrolldown()\n",
    "    for article in driver.find_elements_by_class_name('card'):\n",
    "        urls.append(article.find_element_by_tag_name('a').get_attribute('href'))\n",
    "    try:\n",
    "        button = driver.find_element_by_css_selector('a.infinity-next.button')\n",
    "        button.click()\n",
    "    except NoSuchElementException:\n",
    "        button = False"
   ]
  },
  {
   "cell_type": "code",
   "execution_count": null,
   "metadata": {},
   "outputs": [],
   "source": [
    "len(urls)"
   ]
  },
  {
   "cell_type": "markdown",
   "metadata": {},
   "source": [
    "### III. Querying microservices"
   ]
  },
  {
   "cell_type": "code",
   "execution_count": null,
   "metadata": {},
   "outputs": [],
   "source": []
  }
 ],
 "metadata": {
  "kernelspec": {
   "display_name": "Python 3",
   "language": "python",
   "name": "python3"
  },
  "language_info": {
   "codemirror_mode": {
    "name": "ipython",
    "version": 3
   },
   "file_extension": ".py",
   "mimetype": "text/x-python",
   "name": "python",
   "nbconvert_exporter": "python",
   "pygments_lexer": "ipython3",
   "version": "3.8.3"
  }
 },
 "nbformat": 4,
 "nbformat_minor": 2
}
