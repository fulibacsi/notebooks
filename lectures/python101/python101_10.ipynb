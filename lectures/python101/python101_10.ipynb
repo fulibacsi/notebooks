{
 "cells": [
  {
   "cell_type": "markdown",
   "metadata": {},
   "source": [
    "# Python 101\n",
    "## Part X.\n",
    "---\n",
    "## Dataframes and visualization\n",
    "### Act I: Use the pandas, Luke!\n",
    "\n",
    "<img src=\"pics/pandas.png\" align=\"left\">\n",
    "<br style=\"clear:left;\"/>"
   ]
  },
  {
   "cell_type": "code",
   "execution_count": null,
   "metadata": {},
   "outputs": [],
   "source": [
    "import pandas as pd"
   ]
  },
  {
   "cell_type": "markdown",
   "metadata": {},
   "source": [
    "#### Part I. Basic pandas operations\n",
    "- read csv data into a pandas dataframe"
   ]
  },
  {
   "cell_type": "code",
   "execution_count": null,
   "metadata": {},
   "outputs": [],
   "source": [
    "data = pd.read_csv('./data/vote2022.csv')"
   ]
  },
  {
   "cell_type": "markdown",
   "metadata": {},
   "source": [
    "- show the first 5 rows"
   ]
  },
  {
   "cell_type": "code",
   "execution_count": null,
   "metadata": {},
   "outputs": [],
   "source": [
    "data.head()"
   ]
  },
  {
   "cell_type": "markdown",
   "metadata": {},
   "source": [
    "- get a dataframe's column names"
   ]
  },
  {
   "cell_type": "code",
   "execution_count": null,
   "metadata": {},
   "outputs": [],
   "source": [
    "data.columns"
   ]
  },
  {
   "cell_type": "markdown",
   "metadata": {},
   "source": [
    "- select a subset of columns"
   ]
  },
  {
   "cell_type": "code",
   "execution_count": null,
   "metadata": {},
   "outputs": [],
   "source": [
    "data[['name', 'votes']].head()"
   ]
  },
  {
   "cell_type": "markdown",
   "metadata": {},
   "source": [
    "- filter columns by selecting subset of columns"
   ]
  },
  {
   "cell_type": "code",
   "execution_count": null,
   "metadata": {},
   "outputs": [],
   "source": [
    "cols_i_want = [col for col in data.columns if not col == 'winner']\n",
    "cols_i_want"
   ]
  },
  {
   "cell_type": "code",
   "execution_count": null,
   "metadata": {},
   "outputs": [],
   "source": [
    "data[cols_i_want].head()"
   ]
  },
  {
   "cell_type": "markdown",
   "metadata": {},
   "source": [
    "__Caution!__ `data[cols]` only creates a view!  \n",
    "Use `data = data[cols]` if you want on a subset."
   ]
  },
  {
   "cell_type": "code",
   "execution_count": null,
   "metadata": {},
   "outputs": [],
   "source": [
    "data.head()"
   ]
  },
  {
   "cell_type": "code",
   "execution_count": null,
   "metadata": {},
   "outputs": [],
   "source": [
    "data = data[cols_i_want]\n",
    "data.head()"
   ]
  },
  {
   "cell_type": "markdown",
   "metadata": {},
   "source": [
    "- use aggregation functions  \n",
    "_How many people voted?_"
   ]
  },
  {
   "cell_type": "code",
   "execution_count": null,
   "metadata": {},
   "outputs": [],
   "source": [
    "data['votes'].sum()"
   ]
  },
  {
   "cell_type": "markdown",
   "metadata": {},
   "source": [
    "- group values to get more insight  \n",
    "_Let's get the sum of the votes for each party!_"
   ]
  },
  {
   "cell_type": "code",
   "execution_count": null,
   "metadata": {},
   "outputs": [],
   "source": [
    "data[['party', 'votes']].groupby('party').sum().head(10)"
   ]
  },
  {
   "cell_type": "markdown",
   "metadata": {},
   "source": [
    "- replacing values  \n",
    "_How about renaming parties to a shorter name?_"
   ]
  },
  {
   "cell_type": "code",
   "execution_count": null,
   "metadata": {},
   "outputs": [],
   "source": [
    "party_mapping = {\n",
    "    ('FIDESZ - MAGYAR POLGÁRI SZÖVETSÉG'\n",
    "     '-KERESZTÉNYDEMOKRATA NÉPPÁRT'): 'FIDESZ-KDNP',\n",
    "\n",
    "    ('DEMOKRATIKUS KOALÍCIÓ'\n",
    "     '-JOBBIK MAGYARORSZÁGÉRT MOZGALOM'\n",
    "     '-MOMENTUM MOZGALOM'\n",
    "     '-MAGYAR SZOCIALISTA PÁRT'\n",
    "     '-LMP - MAGYARORSZÁG ZÖLD PÁRTJA'\n",
    "     '-PÁRBESZÉD MAGYARORSZÁGÉRT PÁRT'): 'OSSZEFOGAS',\n",
    "     \n",
    "    ('MAGYAR MUNKÁSPÁRT'\n",
    "     '-IGEN SZOLIDARITÁS MAGYARORSZÁGÉRT MOZGALOM'): 'MUNKÁSPÁRT'\n",
    "}\n",
    "\n",
    "data['party'] = data['party'].replace(party_mapping, inplace=False)"
   ]
  },
  {
   "cell_type": "markdown",
   "metadata": {},
   "source": [
    "- ordering dataframes  \n",
    "_Order results by the number of votes!_"
   ]
  },
  {
   "cell_type": "code",
   "execution_count": null,
   "metadata": {},
   "outputs": [],
   "source": [
    "party_votes = (\n",
    "    data\n",
    "    [['party', 'votes']]\n",
    "    .groupby('party')\n",
    "    .sum()\n",
    "    .sort_values('votes', ascending=False)\n",
    ")\n",
    "party_votes.head()"
   ]
  },
  {
   "cell_type": "code",
   "execution_count": null,
   "metadata": {},
   "outputs": [],
   "source": [
    "len(data['party'].unique())"
   ]
  },
  {
   "cell_type": "code",
   "execution_count": null,
   "metadata": {},
   "outputs": [],
   "source": [
    "data.party.nunique()"
   ]
  },
  {
   "cell_type": "markdown",
   "metadata": {},
   "source": [
    "- create new column"
   ]
  },
  {
   "cell_type": "code",
   "execution_count": null,
   "metadata": {},
   "outputs": [],
   "source": [
    "data['opposition'] = data['party'] != 'FIDESZ-KDNP'\n",
    "data.head()"
   ]
  },
  {
   "cell_type": "markdown",
   "metadata": {},
   "source": [
    "#### Part II. Plotting results\n",
    "\n",
    "Use a jupyter \"magic\" function to draw the plots into the notebook.  \n",
    "Also load plotting libraries `matplotlib` and `seaborn`."
   ]
  },
  {
   "cell_type": "code",
   "execution_count": null,
   "metadata": {},
   "outputs": [],
   "source": [
    "%matplotlib inline\n",
    "import matplotlib.pyplot as plt\n",
    "import seaborn as sns"
   ]
  },
  {
   "cell_type": "markdown",
   "metadata": {},
   "source": [
    "- simple barplot"
   ]
  },
  {
   "cell_type": "code",
   "execution_count": null,
   "metadata": {},
   "outputs": [],
   "source": [
    "party_votes.plot(kind='bar');"
   ]
  },
  {
   "cell_type": "markdown",
   "metadata": {},
   "source": [
    "- filtering and plotting  \n",
    "_Only plot parties with at least 10000 votes!_\n",
    "\n",
    "We can filter dataframes with the `dataframe.loc[condition]` statement where condition is a logical expression on one (or more) column(s)."
   ]
  },
  {
   "cell_type": "code",
   "execution_count": null,
   "metadata": {},
   "outputs": [],
   "source": [
    "condition = party_votes['votes'] > 10000\n",
    "condition.head(15)"
   ]
  },
  {
   "cell_type": "code",
   "execution_count": null,
   "metadata": {},
   "outputs": [],
   "source": [
    "vote10k = party_votes.loc[condition]\n",
    "vote10k.plot(kind='bar');"
   ]
  },
  {
   "cell_type": "markdown",
   "metadata": {},
   "source": [
    "_Plot the top 6 party!_"
   ]
  },
  {
   "cell_type": "code",
   "execution_count": null,
   "metadata": {},
   "outputs": [],
   "source": [
    "top6 = party_votes.head(6)\n",
    "top6.plot(kind='bar');"
   ]
  },
  {
   "cell_type": "markdown",
   "metadata": {},
   "source": [
    "---\n",
    "### Act III: The devil lies in the details!\n",
    "\n",
    "<img src=\"pics/evil-panda.png\" width=300 height=300 align=\"left\">\n",
    "<br style=\"clear:left;\"/>\n",
    "\n",
    "- Nested grouping operations  \n",
    "_Consider the regional data too._"
   ]
  },
  {
   "cell_type": "code",
   "execution_count": null,
   "metadata": {},
   "outputs": [],
   "source": [
    "regional = (\n",
    "    data\n",
    "    [['party', 'region', 'votes']]\n",
    "    .groupby(['region', 'party'])\n",
    "    .sum()\n",
    ")\n",
    "regional.head(10)"
   ]
  },
  {
   "cell_type": "markdown",
   "metadata": {},
   "source": [
    "_Let's only have the ones with more than 5000 votes!_"
   ]
  },
  {
   "cell_type": "code",
   "execution_count": null,
   "metadata": {},
   "outputs": [],
   "source": [
    "regional5k = regional.loc[regional.votes > 5000]\n",
    "regional5k.head(10)"
   ]
  },
  {
   "cell_type": "markdown",
   "metadata": {},
   "source": [
    "- Pivot  \n",
    "To pivot this dataframe first we need to remove the nested index:"
   ]
  },
  {
   "cell_type": "code",
   "execution_count": null,
   "metadata": {},
   "outputs": [],
   "source": [
    "regional5k.reset_index().head()"
   ]
  },
  {
   "cell_type": "markdown",
   "metadata": {},
   "source": [
    "Now we can pivot this flattened dataframe:"
   ]
  },
  {
   "cell_type": "code",
   "execution_count": null,
   "metadata": {},
   "outputs": [],
   "source": [
    "(\n",
    "    regional5k\n",
    "    .reset_index()\n",
    "    .pivot(index='region', columns='party', values='votes')\n",
    ")"
   ]
  },
  {
   "cell_type": "markdown",
   "metadata": {},
   "source": [
    "Plot the results:"
   ]
  },
  {
   "cell_type": "code",
   "execution_count": null,
   "metadata": {},
   "outputs": [],
   "source": [
    "(\n",
    "    regional5k\n",
    "    .reset_index()\n",
    "    .pivot(index='region', columns='party', values='votes')\n",
    "    .plot(kind='barh', figsize=(12, 15))\n",
    ");"
   ]
  },
  {
   "cell_type": "markdown",
   "metadata": {},
   "source": [
    "---\n",
    "\n",
    "## Let's do some...\n",
    "\n",
    "<img align=\"left\" width=150 src=\"http://www.reactiongifs.com/r/mgc.gif\">\n",
    "\n",
    "<br style=\"clear:left;\"/>\n",
    "\n",
    "### Act III: Cool \"library\" of the week: caching function results\n",
    "#### Speed up your computation heavy functions\n",
    "\n",
    "Consider that you have a function which is pretty lengthy to compute, but it is executed a lot for the same input. In this case saving the input-output pairs in a dictionary will speed up your program considerably.\n",
    "\n",
    "How to measure the time it takes to compute with the time module:"
   ]
  },
  {
   "cell_type": "code",
   "execution_count": null,
   "metadata": {},
   "outputs": [],
   "source": [
    "import time\n",
    "\n",
    "start_time = time.time()\n",
    "time.sleep(5)   # wait 5 sec to simulate computation\n",
    "end_time = time.time() - start_time\n",
    "\n",
    "print(f\"Computation took {end_time:.2f} seconds.\")"
   ]
  },
  {
   "cell_type": "markdown",
   "metadata": {},
   "source": [
    "Or use a jupyter notebook exclusive magic command:\n",
    "```python\n",
    "%time command\n",
    "```\n",
    "to measure single line expression, and\n",
    "```python\n",
    "%%time\n",
    "\n",
    "command1()\n",
    "command2()\n",
    "command3()\n",
    "```\n",
    "to measure the whole cell."
   ]
  },
  {
   "cell_type": "code",
   "execution_count": null,
   "metadata": {},
   "outputs": [],
   "source": [
    "%%time\n",
    "\n",
    "time.sleep(5)"
   ]
  },
  {
   "cell_type": "markdown",
   "metadata": {},
   "source": [
    "This will measure on time execution - this is often misleading, but we can do better! Let's measure multiple execution and get the avg execution time with:\n",
    "```python\n",
    "%timeit command\n",
    "```\n",
    "and \n",
    "```python\n",
    "%%timeit\n",
    "\n",
    "command1()\n",
    "command2()\n",
    "command3()\n",
    "```\n",
    "commands."
   ]
  },
  {
   "cell_type": "code",
   "execution_count": null,
   "metadata": {},
   "outputs": [],
   "source": [
    "%%timeit\n",
    "\n",
    "time.sleep(5)"
   ]
  },
  {
   "cell_type": "markdown",
   "metadata": {},
   "source": [
    "Now that we can measure computation time, let's improve a lengthy function by caching it with caching.\n",
    "We will use the [`lru_cache`](https://docs.python.org/3/library/functools.html#functools.lru_cache) function from python's built-in library `functools`.\n",
    "\n",
    "First, let's create and measure our dummy function:"
   ]
  },
  {
   "cell_type": "code",
   "execution_count": null,
   "metadata": {},
   "outputs": [],
   "source": [
    "def lengthy_function(n):\n",
    "    time.sleep(n)\n",
    "    return n"
   ]
  },
  {
   "cell_type": "code",
   "execution_count": null,
   "metadata": {},
   "outputs": [],
   "source": [
    "%time lengthy_function(5)"
   ]
  },
  {
   "cell_type": "code",
   "execution_count": null,
   "metadata": {},
   "outputs": [],
   "source": [
    "%time lengthy_function(5)"
   ]
  },
  {
   "cell_type": "markdown",
   "metadata": {},
   "source": [
    "Now let's create the same function, but now cached."
   ]
  },
  {
   "cell_type": "code",
   "execution_count": null,
   "metadata": {},
   "outputs": [],
   "source": [
    "from functools import lru_cache\n",
    "\n",
    "@lru_cache()\n",
    "def cached_lengthy_function(n):\n",
    "    time.sleep(n)\n",
    "    return n"
   ]
  },
  {
   "cell_type": "markdown",
   "metadata": {},
   "source": [
    "The first run will take the same amount of time, but it is now cached:"
   ]
  },
  {
   "cell_type": "code",
   "execution_count": null,
   "metadata": {},
   "outputs": [],
   "source": [
    "%time cached_lengthy_function(5)"
   ]
  },
  {
   "cell_type": "markdown",
   "metadata": {},
   "source": [
    "So from now on, it will be super fast:"
   ]
  },
  {
   "cell_type": "code",
   "execution_count": null,
   "metadata": {},
   "outputs": [],
   "source": [
    "%time cached_lengthy_function(5)"
   ]
  },
  {
   "cell_type": "markdown",
   "metadata": {},
   "source": [
    "---\n",
    "## Final Act: The pandas is strong with this one!\n",
    "\n",
    "<img src=\"pics/darth_panda.jpg\" align=\"left\"/>\n",
    "\n",
    "<br style=\"clear:left;\" />\n",
    "\n",
    "    \n",
    "## It's your turn - write the missing code snippets!\n",
    "\n",
    "#### 1.  Plot the number of voters in each region!"
   ]
  },
  {
   "cell_type": "code",
   "execution_count": null,
   "metadata": {
    "scrolled": false
   },
   "outputs": [],
   "source": []
  },
  {
   "cell_type": "markdown",
   "metadata": {},
   "source": [
    "#### 2. Who would win, if Fidesz doesn't participate in the election?\n",
    "\n",
    "Hint: You can create filters based on equality. (`~(data['party'] == 'FIDESZ-KDNP')`)"
   ]
  },
  {
   "cell_type": "code",
   "execution_count": null,
   "metadata": {},
   "outputs": [],
   "source": []
  },
  {
   "cell_type": "markdown",
   "metadata": {},
   "source": [
    "#### 3. Who would win by regions, if Fidesz doesn't participate in the election?"
   ]
  },
  {
   "cell_type": "code",
   "execution_count": null,
   "metadata": {},
   "outputs": [],
   "source": []
  },
  {
   "cell_type": "markdown",
   "metadata": {},
   "source": [
    "#### 4. Who were the most successful candidates? (top10)"
   ]
  },
  {
   "cell_type": "code",
   "execution_count": null,
   "metadata": {},
   "outputs": [],
   "source": []
  },
  {
   "cell_type": "markdown",
   "metadata": {},
   "source": [
    "#### 5. List the number of subregions each party participated! \n",
    "Hint: groupby aggregation function `.count()` returns the number of items in a group."
   ]
  },
  {
   "cell_type": "code",
   "execution_count": null,
   "metadata": {},
   "outputs": [],
   "source": []
  },
  {
   "cell_type": "markdown",
   "metadata": {},
   "source": [
    "#### 6. How many wins could the opposition get in case of perfect cooperation?\n",
    "\n",
    "Solution steps:\n",
    "1. Create a new boolean column if a row is an opposition or not (ie. not Fidesz)\n",
    "2. Group by region and the column from step 1 and sum up the votes\n",
    "3. Save the pivoted (regions are the records and opposition / Fidesz are the columns) dataframe to a variable\n",
    "4. Create a new column in the pivoted dataframe to store if the opposition got more votes than Fidesz\n",
    "5. Sum up this column to get the number of regions where the \"perfect opposition\" wins"
   ]
  },
  {
   "cell_type": "code",
   "execution_count": null,
   "metadata": {},
   "outputs": [],
   "source": []
  },
  {
   "cell_type": "markdown",
   "metadata": {},
   "source": [
    "#### 7. List the most successful regions for each party!\n",
    "\n",
    "Solution steps:\n",
    "1. Group by the data by regions and party and sum up the votes\n",
    "2. Sort the result by votes\n",
    "3. Reset the index\n",
    "4. Group by party and select the first row with `.first()`"
   ]
  },
  {
   "cell_type": "code",
   "execution_count": null,
   "metadata": {},
   "outputs": [],
   "source": []
  }
 ],
 "metadata": {
  "kernelspec": {
   "display_name": "szisz",
   "language": "python",
   "name": "python3"
  },
  "language_info": {
   "codemirror_mode": {
    "name": "ipython",
    "version": 3
   },
   "file_extension": ".py",
   "mimetype": "text/x-python",
   "name": "python",
   "nbconvert_exporter": "python",
   "pygments_lexer": "ipython3",
   "version": "3.11.5"
  }
 },
 "nbformat": 4,
 "nbformat_minor": 1
}
