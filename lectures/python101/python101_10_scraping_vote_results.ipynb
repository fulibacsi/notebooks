{
 "cells": [
  {
   "cell_type": "markdown",
   "metadata": {},
   "source": [
    "# Python 101\n",
    "## Part IX. - Vote results scraping\n",
    "---\n",
    "\n",
    "<img src=\"http://www.london24.com/polopoly_fs/1.3024317.1385128334!/image/4183113330.jpg_gen/derivatives/landscape_630/4183113330.jpg\" width=\"360\" align=\"left\"></img>\n",
    "<br style=\"clear:left;\"/>\n",
    "\n",
    "Scrape the 2018 hungarian voting results!\n",
    "- import required libraries"
   ]
  },
  {
   "cell_type": "code",
   "execution_count": null,
   "metadata": {},
   "outputs": [],
   "source": [
    "import requests\n",
    "from bs4 import BeautifulSoup"
   ]
  },
  {
   "cell_type": "markdown",
   "metadata": {},
   "source": [
    "- set up basic URIs"
   ]
  },
  {
   "cell_type": "code",
   "execution_count": null,
   "metadata": {},
   "outputs": [],
   "source": [
    "VOTE_BASE = 'http://valasztas.hu/dyn/pv18/szavossz/hu/'\n",
    "OVERALL = 'oevker.html'\n",
    "BASE_URI = './data/'"
   ]
  },
  {
   "cell_type": "markdown",
   "metadata": {},
   "source": [
    "- download document"
   ]
  },
  {
   "cell_type": "code",
   "execution_count": null,
   "metadata": {},
   "outputs": [],
   "source": [
    "vote_response = requests.get(VOTE_BASE + OVERALL)\n",
    "print(vote_response.status_code)"
   ]
  },
  {
   "cell_type": "markdown",
   "metadata": {},
   "source": [
    "- extract data with beautifulsoup"
   ]
  },
  {
   "cell_type": "code",
   "execution_count": null,
   "metadata": {
    "scrolled": true
   },
   "outputs": [],
   "source": [
    "vote_soup = BeautifulSoup(vote_response.content, \"html.parser\") \n",
    "containers = vote_soup.find('table', {'border': '1'}).findAll('tr')\n",
    "print(len(containers))\n",
    "containers[:5]"
   ]
  },
  {
   "cell_type": "markdown",
   "metadata": {},
   "source": [
    "- get the items out of the tablerows"
   ]
  },
  {
   "cell_type": "code",
   "execution_count": null,
   "metadata": {
    "scrolled": true
   },
   "outputs": [],
   "source": [
    "rows = [row.findAll('td') for row in containers]\n",
    "rows[:5]"
   ]
  },
  {
   "cell_type": "markdown",
   "metadata": {},
   "source": [
    "- \"transform\" the data into a table-like format"
   ]
  },
  {
   "cell_type": "code",
   "execution_count": null,
   "metadata": {
    "scrolled": true
   },
   "outputs": [],
   "source": [
    "for row in rows[:5]:\n",
    "    print([r.getText() for r in row])"
   ]
  },
  {
   "cell_type": "markdown",
   "metadata": {},
   "source": [
    "- for our analysis, we need the region, the subregion and the links"
   ]
  },
  {
   "cell_type": "code",
   "execution_count": null,
   "metadata": {},
   "outputs": [],
   "source": [
    "REGIONS = []\n",
    "for row in rows:\n",
    "    REGIONS.append([row[0].getText(), row[2].getText(), row[1].find('a').get('href')])\n",
    "REGIONS[:5]"
   ]
  },
  {
   "cell_type": "code",
   "execution_count": null,
   "metadata": {
    "scrolled": true
   },
   "outputs": [],
   "source": [
    "print('Number of regions:', len(REGIONS))"
   ]
  },
  {
   "cell_type": "markdown",
   "metadata": {},
   "source": [
    "- get the detailed information for each region"
   ]
  },
  {
   "cell_type": "code",
   "execution_count": null,
   "metadata": {
    "scrolled": false
   },
   "outputs": [],
   "source": [
    "results = []\n",
    "\n",
    "for city, region, sub_url in REGIONS:\n",
    "    print(\"Downloading and processing data for {} - {} ...\".format(city, region), end='')\n",
    "    region_response = requests.get(VOTE_BASE + sub_url)\n",
    "    region_soup = BeautifulSoup(region_response.content, \"html.parser\")\n",
    "    region_container = (region_soup\n",
    "                        .find(text='A szavazatok száma jelöltenként')\n",
    "                        .findNext('table')\n",
    "                        .findAll('tr'))\n",
    "    region_rows = [row.findAll('td') for row in region_container][1:] # remove empty header\n",
    "    # every candidate will go to a new row\n",
    "    for row in region_rows:\n",
    "        results.append([city, region] + [r.getText() for r in row][:-1]) # remove the last 'tick column'\n",
    "    print(\"Done.\")"
   ]
  },
  {
   "cell_type": "markdown",
   "metadata": {},
   "source": [
    "- let's look at the detailed information"
   ]
  },
  {
   "cell_type": "code",
   "execution_count": null,
   "metadata": {},
   "outputs": [],
   "source": [
    "print(results[:5])\n",
    "print('-' * 79)\n",
    "print('Number of candidates:', len(results))"
   ]
  },
  {
   "cell_type": "markdown",
   "metadata": {},
   "source": [
    "- transform the items"
   ]
  },
  {
   "cell_type": "code",
   "execution_count": null,
   "metadata": {},
   "outputs": [],
   "source": [
    "cleaned_results =[]\n",
    "\n",
    "for row in results:\n",
    "    cleaned_results.append(\n",
    "        [item.replace(u'\\xa0', u'').replace(u'%', u'').strip() # replace the unneeded characters\n",
    "         for item in row]\n",
    "    )\n",
    "cleaned_results[:5]    "
   ]
  },
  {
   "cell_type": "markdown",
   "metadata": {},
   "source": [
    "Now we can finally save it!"
   ]
  },
  {
   "cell_type": "code",
   "execution_count": null,
   "metadata": {},
   "outputs": [],
   "source": [
    "import pandas as pd\n",
    "\n",
    "header = [u'region', u'subregion', u'subid', u'name', u'party', u'votes', u'votes %']\n",
    "filename = 'vote2018.csv'\n",
    "pd.DataFrame(cleaned_results, columns=header).to_csv(filename, index=False)"
   ]
  },
  {
   "cell_type": "markdown",
   "metadata": {},
   "source": [
    "----\n",
    "\n",
    "# Transforming 2022 election data"
   ]
  },
  {
   "cell_type": "code",
   "execution_count": 1,
   "metadata": {},
   "outputs": [],
   "source": [
    "import numpy as np\n",
    "import pandas as pd"
   ]
  },
  {
   "cell_type": "code",
   "execution_count": 2,
   "metadata": {},
   "outputs": [],
   "source": [
    "column_mapping = {\n",
    "    'MEGYE': 'region', \n",
    "    'JELÖLT': 'name', \n",
    "    'SZAVAZAT': 'votes', \n",
    "    'SZERVEZET': 'party', \n",
    "    'NYERTES': 'winner'\n",
    "}\n",
    "county_level_columns = ['region', 'subregion', 'name', 'party', 'votes', 'winner']\n",
    "ffill_columns = ['MEGYE', 'TELEPÜLÉS', 'OEVK']"
   ]
  },
  {
   "cell_type": "code",
   "execution_count": 6,
   "metadata": {},
   "outputs": [
    {
     "data": {
      "text/html": [
       "<div>\n",
       "<style scoped>\n",
       "    .dataframe tbody tr th:only-of-type {\n",
       "        vertical-align: middle;\n",
       "    }\n",
       "\n",
       "    .dataframe tbody tr th {\n",
       "        vertical-align: top;\n",
       "    }\n",
       "\n",
       "    .dataframe thead th {\n",
       "        text-align: right;\n",
       "    }\n",
       "</style>\n",
       "<table border=\"1\" class=\"dataframe\">\n",
       "  <thead>\n",
       "    <tr style=\"text-align: right;\">\n",
       "      <th></th>\n",
       "      <th>MEGYE</th>\n",
       "      <th>OEVK</th>\n",
       "      <th>TELEPÜLÉS</th>\n",
       "      <th>VÁLASZTÓPOLGÁR</th>\n",
       "      <th>MEGJELENTEK</th>\n",
       "      <th>URNÁBAN_LEVŐ</th>\n",
       "      <th>ÉRVÉNYTELEN</th>\n",
       "      <th>ÉRVÉNYES</th>\n",
       "      <th>JELÖLT</th>\n",
       "      <th>SZERVEZET</th>\n",
       "      <th>SZAVAZAT</th>\n",
       "      <th>NYERTES</th>\n",
       "    </tr>\n",
       "  </thead>\n",
       "  <tbody>\n",
       "    <tr>\n",
       "      <th>0</th>\n",
       "      <td>BUDAPEST</td>\n",
       "      <td>1.0</td>\n",
       "      <td>Budapest V. kerület</td>\n",
       "      <td>59754.0</td>\n",
       "      <td>45391.0</td>\n",
       "      <td>45341.0</td>\n",
       "      <td>407.0</td>\n",
       "      <td>44934.0</td>\n",
       "      <td>NaN</td>\n",
       "      <td>NaN</td>\n",
       "      <td>NaN</td>\n",
       "      <td>NaN</td>\n",
       "    </tr>\n",
       "    <tr>\n",
       "      <th>1</th>\n",
       "      <td>NaN</td>\n",
       "      <td>NaN</td>\n",
       "      <td>NaN</td>\n",
       "      <td>NaN</td>\n",
       "      <td>NaN</td>\n",
       "      <td>NaN</td>\n",
       "      <td>NaN</td>\n",
       "      <td>NaN</td>\n",
       "      <td>CSÁRDI ANTAL</td>\n",
       "      <td>DEMOKRATIKUS KOALÍCIÓ-JOBBIK MAGYARORSZÁGÉRT M...</td>\n",
       "      <td>21778.0</td>\n",
       "      <td>Nyertes</td>\n",
       "    </tr>\n",
       "    <tr>\n",
       "      <th>2</th>\n",
       "      <td>NaN</td>\n",
       "      <td>NaN</td>\n",
       "      <td>NaN</td>\n",
       "      <td>NaN</td>\n",
       "      <td>NaN</td>\n",
       "      <td>NaN</td>\n",
       "      <td>NaN</td>\n",
       "      <td>NaN</td>\n",
       "      <td>BÖRÖCZ LÁSZLÓ</td>\n",
       "      <td>FIDESZ - MAGYAR POLGÁRI SZÖVETSÉG-KERESZTÉNYDE...</td>\n",
       "      <td>19144.0</td>\n",
       "      <td></td>\n",
       "    </tr>\n",
       "    <tr>\n",
       "      <th>3</th>\n",
       "      <td>NaN</td>\n",
       "      <td>NaN</td>\n",
       "      <td>NaN</td>\n",
       "      <td>NaN</td>\n",
       "      <td>NaN</td>\n",
       "      <td>NaN</td>\n",
       "      <td>NaN</td>\n",
       "      <td>NaN</td>\n",
       "      <td>HOTZ ANTAL</td>\n",
       "      <td>MAGYAR KÉTFARKÚ KUTYA PÁRT</td>\n",
       "      <td>1975.0</td>\n",
       "      <td></td>\n",
       "    </tr>\n",
       "    <tr>\n",
       "      <th>4</th>\n",
       "      <td>NaN</td>\n",
       "      <td>NaN</td>\n",
       "      <td>NaN</td>\n",
       "      <td>NaN</td>\n",
       "      <td>NaN</td>\n",
       "      <td>NaN</td>\n",
       "      <td>NaN</td>\n",
       "      <td>NaN</td>\n",
       "      <td>SZIKORA ISTVÁN</td>\n",
       "      <td>MI HAZÁNK MOZGALOM</td>\n",
       "      <td>1229.0</td>\n",
       "      <td></td>\n",
       "    </tr>\n",
       "  </tbody>\n",
       "</table>\n",
       "</div>"
      ],
      "text/plain": [
       "      MEGYE  OEVK            TELEPÜLÉS  VÁLASZTÓPOLGÁR  MEGJELENTEK  \\\n",
       "0  BUDAPEST   1.0  Budapest V. kerület         59754.0      45391.0   \n",
       "1       NaN   NaN                  NaN             NaN          NaN   \n",
       "2       NaN   NaN                  NaN             NaN          NaN   \n",
       "3       NaN   NaN                  NaN             NaN          NaN   \n",
       "4       NaN   NaN                  NaN             NaN          NaN   \n",
       "\n",
       "   URNÁBAN_LEVŐ  ÉRVÉNYTELEN  ÉRVÉNYES          JELÖLT  \\\n",
       "0       45341.0        407.0   44934.0             NaN   \n",
       "1           NaN          NaN       NaN    CSÁRDI ANTAL   \n",
       "2           NaN          NaN       NaN   BÖRÖCZ LÁSZLÓ   \n",
       "3           NaN          NaN       NaN      HOTZ ANTAL   \n",
       "4           NaN          NaN       NaN  SZIKORA ISTVÁN   \n",
       "\n",
       "                                           SZERVEZET  SZAVAZAT  NYERTES  \n",
       "0                                                NaN       NaN      NaN  \n",
       "1  DEMOKRATIKUS KOALÍCIÓ-JOBBIK MAGYARORSZÁGÉRT M...   21778.0  Nyertes  \n",
       "2  FIDESZ - MAGYAR POLGÁRI SZÖVETSÉG-KERESZTÉNYDE...   19144.0           \n",
       "3                         MAGYAR KÉTFARKÚ KUTYA PÁRT    1975.0           \n",
       "4                                 MI HAZÁNK MOZGALOM    1229.0           "
      ]
     },
     "execution_count": 6,
     "metadata": {},
     "output_type": "execute_result"
    }
   ],
   "source": [
    "vote2022 = (\n",
    "    pd.read_excel(\"data/vote2022.xlsx\")\n",
    "    .drop(columns=[\n",
    "        'TIPUS',\n",
    "        'JKV_AZONOSÍTÓ',\n",
    "        \"'EGYÉNI_EREDMÉNY_JEGYZŐKÖNYV'\",\n",
    "        'MEGYEKÓD', \n",
    "        'SZÉKHELY', \n",
    "        \"SZH_KER\", \n",
    "        'SZÉKHELY_TELEPÜLÉS_SORSZÁM'\n",
    "    ])\n",
    ")\n",
    "vote2022.head()"
   ]
  },
  {
   "cell_type": "code",
   "execution_count": 7,
   "metadata": {},
   "outputs": [
    {
     "data": {
      "text/html": [
       "<div>\n",
       "<style scoped>\n",
       "    .dataframe tbody tr th:only-of-type {\n",
       "        vertical-align: middle;\n",
       "    }\n",
       "\n",
       "    .dataframe tbody tr th {\n",
       "        vertical-align: top;\n",
       "    }\n",
       "\n",
       "    .dataframe thead th {\n",
       "        text-align: right;\n",
       "    }\n",
       "</style>\n",
       "<table border=\"1\" class=\"dataframe\">\n",
       "  <thead>\n",
       "    <tr style=\"text-align: right;\">\n",
       "      <th></th>\n",
       "      <th>MEGYE</th>\n",
       "      <th>OEVK</th>\n",
       "      <th>TELEPÜLÉS</th>\n",
       "      <th>VÁLASZTÓPOLGÁR</th>\n",
       "      <th>MEGJELENTEK</th>\n",
       "      <th>URNÁBAN_LEVŐ</th>\n",
       "      <th>ÉRVÉNYTELEN</th>\n",
       "      <th>ÉRVÉNYES</th>\n",
       "      <th>JELÖLT</th>\n",
       "      <th>SZERVEZET</th>\n",
       "      <th>SZAVAZAT</th>\n",
       "      <th>NYERTES</th>\n",
       "    </tr>\n",
       "  </thead>\n",
       "  <tbody>\n",
       "    <tr>\n",
       "      <th>0</th>\n",
       "      <td>BARANYA</td>\n",
       "      <td>3</td>\n",
       "      <td>Mohács</td>\n",
       "      <td>NaN</td>\n",
       "      <td>NaN</td>\n",
       "      <td>NaN</td>\n",
       "      <td>NaN</td>\n",
       "      <td>NaN</td>\n",
       "      <td>DR. HARGITAI JÁNOS</td>\n",
       "      <td>FIDESZ - MAGYAR POLGÁRI SZÖVETSÉG-KERESZTÉNYDE...</td>\n",
       "      <td>28172.0</td>\n",
       "      <td>True</td>\n",
       "    </tr>\n",
       "    <tr>\n",
       "      <th>1</th>\n",
       "      <td>BARANYA</td>\n",
       "      <td>3</td>\n",
       "      <td>Mohács</td>\n",
       "      <td>NaN</td>\n",
       "      <td>NaN</td>\n",
       "      <td>NaN</td>\n",
       "      <td>NaN</td>\n",
       "      <td>NaN</td>\n",
       "      <td>SCHWARCZ-KIEFER PATRIK</td>\n",
       "      <td>DEMOKRATIKUS KOALÍCIÓ-JOBBIK MAGYARORSZÁGÉRT M...</td>\n",
       "      <td>13954.0</td>\n",
       "      <td>False</td>\n",
       "    </tr>\n",
       "    <tr>\n",
       "      <th>2</th>\n",
       "      <td>BARANYA</td>\n",
       "      <td>3</td>\n",
       "      <td>Mohács</td>\n",
       "      <td>NaN</td>\n",
       "      <td>NaN</td>\n",
       "      <td>NaN</td>\n",
       "      <td>NaN</td>\n",
       "      <td>NaN</td>\n",
       "      <td>BERNÁTH CSILLA</td>\n",
       "      <td>MI HAZÁNK MOZGALOM</td>\n",
       "      <td>3448.0</td>\n",
       "      <td>False</td>\n",
       "    </tr>\n",
       "    <tr>\n",
       "      <th>3</th>\n",
       "      <td>BARANYA</td>\n",
       "      <td>3</td>\n",
       "      <td>Mohács</td>\n",
       "      <td>NaN</td>\n",
       "      <td>NaN</td>\n",
       "      <td>NaN</td>\n",
       "      <td>NaN</td>\n",
       "      <td>NaN</td>\n",
       "      <td>DÖBREI ISTVÁN</td>\n",
       "      <td>MEGOLDÁS MOZGALOM</td>\n",
       "      <td>826.0</td>\n",
       "      <td>False</td>\n",
       "    </tr>\n",
       "    <tr>\n",
       "      <th>4</th>\n",
       "      <td>BARANYA</td>\n",
       "      <td>3</td>\n",
       "      <td>Mohács</td>\n",
       "      <td>NaN</td>\n",
       "      <td>NaN</td>\n",
       "      <td>NaN</td>\n",
       "      <td>NaN</td>\n",
       "      <td>NaN</td>\n",
       "      <td>KÓS ZOLTÁN</td>\n",
       "      <td>MAGYAR MUNKÁSPÁRT-IGEN SZOLIDARITÁS MAGYARORSZ...</td>\n",
       "      <td>213.0</td>\n",
       "      <td>False</td>\n",
       "    </tr>\n",
       "  </tbody>\n",
       "</table>\n",
       "</div>"
      ],
      "text/plain": [
       "     MEGYE OEVK TELEPÜLÉS  VÁLASZTÓPOLGÁR  MEGJELENTEK  URNÁBAN_LEVŐ  \\\n",
       "0  BARANYA    3    Mohács             NaN          NaN           NaN   \n",
       "1  BARANYA    3    Mohács             NaN          NaN           NaN   \n",
       "2  BARANYA    3    Mohács             NaN          NaN           NaN   \n",
       "3  BARANYA    3    Mohács             NaN          NaN           NaN   \n",
       "4  BARANYA    3    Mohács             NaN          NaN           NaN   \n",
       "\n",
       "   ÉRVÉNYTELEN  ÉRVÉNYES                  JELÖLT  \\\n",
       "0          NaN       NaN      DR. HARGITAI JÁNOS   \n",
       "1          NaN       NaN  SCHWARCZ-KIEFER PATRIK   \n",
       "2          NaN       NaN          BERNÁTH CSILLA   \n",
       "3          NaN       NaN           DÖBREI ISTVÁN   \n",
       "4          NaN       NaN              KÓS ZOLTÁN   \n",
       "\n",
       "                                           SZERVEZET  SZAVAZAT  NYERTES  \n",
       "0  FIDESZ - MAGYAR POLGÁRI SZÖVETSÉG-KERESZTÉNYDE...   28172.0     True  \n",
       "1  DEMOKRATIKUS KOALÍCIÓ-JOBBIK MAGYARORSZÁGÉRT M...   13954.0    False  \n",
       "2                                 MI HAZÁNK MOZGALOM    3448.0    False  \n",
       "3                                  MEGOLDÁS MOZGALOM     826.0    False  \n",
       "4  MAGYAR MUNKÁSPÁRT-IGEN SZOLIDARITÁS MAGYARORSZ...     213.0    False  "
      ]
     },
     "execution_count": 7,
     "metadata": {},
     "output_type": "execute_result"
    }
   ],
   "source": [
    "county_level_df = (\n",
    "    vote2022.fillna({\n",
    "        col: vote2022[col].ffill()\n",
    "        for col in ffill_columns   \n",
    "    })\n",
    "    .loc[vote2022['JELÖLT'].notna()]\n",
    "    .sort_values(by=['MEGYE', 'TELEPÜLÉS', 'OEVK', 'SZAVAZAT'], ascending=[True, True, True, False])\n",
    "    .reset_index(drop=True)\n",
    ")\n",
    "county_level_df['NYERTES'] = county_level_df['NYERTES'] == 'Nyertes'\n",
    "county_level_df['OEVK'] = county_level_df['OEVK'].astype(int).astype(str)\n",
    "county_level_df.head()"
   ]
  },
  {
   "cell_type": "code",
   "execution_count": 8,
   "metadata": {},
   "outputs": [
    {
     "data": {
      "text/plain": [
       "1               Pécs\n",
       "5            Miskolc\n",
       "29         Kecskemét\n",
       "37            Szeged\n",
       "41    Székesfehérvár\n",
       "44              Győr\n",
       "48          Debrecen\n",
       "82       Nyíregyháza\n",
       "Name: TELEPÜLÉS, dtype: object"
      ]
     },
     "execution_count": 8,
     "metadata": {},
     "output_type": "execute_result"
    }
   ],
   "source": [
    "multiple_region_df = (\n",
    "    county_level_df\n",
    "    .loc[county_level_df['NYERTES']]\n",
    "    .groupby(['MEGYE', 'TELEPÜLÉS'], as_index=False).OEVK.count()\n",
    ")\n",
    "multiple_region_locations = (multiple_region_df.loc[multiple_region_df.OEVK > 1, 'TELEPÜLÉS'])\n",
    "multiple_region_locations"
   ]
  },
  {
   "cell_type": "code",
   "execution_count": null,
   "metadata": {},
   "outputs": [],
   "source": [
    "county_level_df = county_level_df.rename(columns=column_mapping)\n",
    "county_level_df['subregion'] = np.where(county_level_df['TELEPÜLÉS'].isin(multiple_region_locations), \n",
    "                                        county_level_df['TELEPÜLÉS'] + ' ' + county_level_df['OEVK'],\n",
    "                                        county_level_df['TELEPÜLÉS'])\n",
    "county_level_df.head()"
   ]
  },
  {
   "cell_type": "code",
   "execution_count": null,
   "metadata": {},
   "outputs": [],
   "source": [
    "\n",
    "county_level_df[county_level_columns].to_csv('./data/vote2022.csv', index=False)"
   ]
  }
 ],
 "metadata": {
  "kernelspec": {
   "display_name": "Python 3",
   "language": "python",
   "name": "python3"
  },
  "language_info": {
   "codemirror_mode": {
    "name": "ipython",
    "version": 3
   },
   "file_extension": ".py",
   "mimetype": "text/x-python",
   "name": "python",
   "nbconvert_exporter": "python",
   "pygments_lexer": "ipython3",
   "version": "3.11.5"
  }
 },
 "nbformat": 4,
 "nbformat_minor": 1
}
